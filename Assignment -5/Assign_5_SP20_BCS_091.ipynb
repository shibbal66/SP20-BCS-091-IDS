{
  "cells": [
    {
      "cell_type": "code",
      "execution_count": 29,
      "metadata": {
        "id": "gkOxYYDwJgFo"
      },
      "outputs": [],
      "source": [
        "import pandas as pd\n",
        "import numpy as np\n",
        "from numpy.linalg import norm\n"
      ]
    },
    {
      "cell_type": "code",
      "execution_count": 30,
      "metadata": {
        "id": "9ywB64MIHiGO"
      },
      "outputs": [],
      "source": [
        "docx1 = \"sunshine state enjoy sunshine\"\n",
        "docx2= \"brown fox jump high, brown fox run\" \n",
        "docx3=\"sunshine state fox run fast\""
      ]
    },
    {
      "cell_type": "code",
      "execution_count": 31,
      "metadata": {
        "id": "VUA62YgFHusw"
      },
      "outputs": [],
      "source": [
        "BOW1 = docx1.split(\" \")\n",
        "BOW2 = docx2.split(\" \")\n",
        "BOW3=docx3.split(\" \")"
      ]
    },
    {
      "cell_type": "code",
      "execution_count": 32,
      "metadata": {
        "colab": {
          "base_uri": "https://localhost:8080/"
        },
        "id": "e-vmOkSQIZg5",
        "outputId": "406a8053-d6a9-4d04-d535-5b83336a9535"
      },
      "outputs": [
        {
          "data": {
            "text/plain": [
              "['sunshine', 'state', 'enjoy', 'sunshine']"
            ]
          },
          "execution_count": 32,
          "metadata": {},
          "output_type": "execute_result"
        }
      ],
      "source": [
        "BOW1\n",
        "['sunshine', 'state', 'enjoy', 'sunshine']"
      ]
    },
    {
      "cell_type": "code",
      "execution_count": 33,
      "metadata": {
        "colab": {
          "base_uri": "https://localhost:8080/"
        },
        "id": "7a5hVDTUIdKZ",
        "outputId": "022d811e-ba3d-4ac6-d997-f1068cb779db"
      },
      "outputs": [
        {
          "data": {
            "text/plain": [
              "{'brown', 'enjoy', 'fast', 'fox', 'high,', 'jump', 'run', 'state', 'sunshine'}"
            ]
          },
          "execution_count": 33,
          "metadata": {},
          "output_type": "execute_result"
        }
      ],
      "source": [
        "wordSet = set(BOW1).union(set(BOW2)).union(set(BOW3))\n",
        "wordSet"
      ]
    },
    {
      "cell_type": "code",
      "execution_count": 34,
      "metadata": {
        "id": "DGjN8cMAJQ3A"
      },
      "outputs": [],
      "source": [
        "wordDict1 = dict.fromkeys(wordSet, 0) \n",
        "wordDict2 = dict.fromkeys(wordSet, 0) \n",
        "wordDict3 = dict.fromkeys(wordSet, 0) "
      ]
    },
    {
      "cell_type": "code",
      "execution_count": 35,
      "metadata": {
        "id": "BPjTNgHRJWf2"
      },
      "outputs": [],
      "source": [
        "for word in BOW1:\n",
        "    wordDictA[word]+=1\n",
        "    \n",
        "for word in BOW2:\n",
        "    wordDict2[word]+=1\n",
        "for word in BOW3:\n",
        "    wordDict3[word]+=1"
      ]
    },
    {
      "cell_type": "code",
      "execution_count": 36,
      "metadata": {
        "colab": {
          "base_uri": "https://localhost:8080/"
        },
        "id": "TnWjZF62JqX2",
        "outputId": "f0c493c8-7a43-4bfa-82d3-905c4357a5f1"
      },
      "outputs": [
        {
          "data": {
            "text/plain": [
              "{'enjoy': 0,\n",
              " 'fox': 0,\n",
              " 'brown': 0,\n",
              " 'jump': 0,\n",
              " 'sunshine': 0,\n",
              " 'state': 0,\n",
              " 'fast': 0,\n",
              " 'run': 0,\n",
              " 'high,': 0}"
            ]
          },
          "execution_count": 36,
          "metadata": {},
          "output_type": "execute_result"
        }
      ],
      "source": [
        "wordDict1\n"
      ]
    },
    {
      "cell_type": "code",
      "execution_count": 37,
      "metadata": {
        "colab": {
          "base_uri": "https://localhost:8080/"
        },
        "id": "eZ-dHahiJ35G",
        "outputId": "0db5d635-79b4-4cb9-80cf-b071d9788107"
      },
      "outputs": [
        {
          "data": {
            "text/plain": [
              "{'enjoy': 0,\n",
              " 'fox': 2,\n",
              " 'brown': 2,\n",
              " 'jump': 1,\n",
              " 'sunshine': 0,\n",
              " 'state': 0,\n",
              " 'fast': 0,\n",
              " 'run': 1,\n",
              " 'high,': 1}"
            ]
          },
          "execution_count": 37,
          "metadata": {},
          "output_type": "execute_result"
        }
      ],
      "source": [
        "\n",
        "wordDict2"
      ]
    },
    {
      "cell_type": "code",
      "execution_count": 38,
      "metadata": {
        "colab": {
          "base_uri": "https://localhost:8080/"
        },
        "id": "jwhFrGtnJzAf",
        "outputId": "3e6e0125-a7c3-4e74-dff0-2d227a8617af"
      },
      "outputs": [
        {
          "data": {
            "text/plain": [
              "{'enjoy': 0,\n",
              " 'fox': 1,\n",
              " 'brown': 0,\n",
              " 'jump': 0,\n",
              " 'sunshine': 1,\n",
              " 'state': 1,\n",
              " 'fast': 1,\n",
              " 'run': 1,\n",
              " 'high,': 0}"
            ]
          },
          "execution_count": 38,
          "metadata": {},
          "output_type": "execute_result"
        }
      ],
      "source": [
        "wordDict3"
      ]
    },
    {
      "cell_type": "code",
      "execution_count": 39,
      "metadata": {
        "colab": {
          "base_uri": "https://localhost:8080/",
          "height": 144
        },
        "id": "AZjmG9TzJ9NZ",
        "outputId": "099297f3-512f-46ce-b31d-9d6770bc670f"
      },
      "outputs": [
        {
          "data": {
            "text/html": [
              "\n",
              "  <div id=\"df-2e04b921-ca1c-42bc-b79c-cd58b53c52a6\">\n",
              "    <div class=\"colab-df-container\">\n",
              "      <div>\n",
              "<style scoped>\n",
              "    .dataframe tbody tr th:only-of-type {\n",
              "        vertical-align: middle;\n",
              "    }\n",
              "\n",
              "    .dataframe tbody tr th {\n",
              "        vertical-align: top;\n",
              "    }\n",
              "\n",
              "    .dataframe thead th {\n",
              "        text-align: right;\n",
              "    }\n",
              "</style>\n",
              "<table border=\"1\" class=\"dataframe\">\n",
              "  <thead>\n",
              "    <tr style=\"text-align: right;\">\n",
              "      <th></th>\n",
              "      <th>enjoy</th>\n",
              "      <th>fox</th>\n",
              "      <th>brown</th>\n",
              "      <th>jump</th>\n",
              "      <th>sunshine</th>\n",
              "      <th>state</th>\n",
              "      <th>fast</th>\n",
              "      <th>run</th>\n",
              "      <th>high,</th>\n",
              "    </tr>\n",
              "  </thead>\n",
              "  <tbody>\n",
              "    <tr>\n",
              "      <th>0</th>\n",
              "      <td>0</td>\n",
              "      <td>0</td>\n",
              "      <td>0</td>\n",
              "      <td>0</td>\n",
              "      <td>0</td>\n",
              "      <td>0</td>\n",
              "      <td>0</td>\n",
              "      <td>0</td>\n",
              "      <td>0</td>\n",
              "    </tr>\n",
              "    <tr>\n",
              "      <th>1</th>\n",
              "      <td>0</td>\n",
              "      <td>2</td>\n",
              "      <td>2</td>\n",
              "      <td>1</td>\n",
              "      <td>0</td>\n",
              "      <td>0</td>\n",
              "      <td>0</td>\n",
              "      <td>1</td>\n",
              "      <td>1</td>\n",
              "    </tr>\n",
              "    <tr>\n",
              "      <th>2</th>\n",
              "      <td>0</td>\n",
              "      <td>1</td>\n",
              "      <td>0</td>\n",
              "      <td>0</td>\n",
              "      <td>1</td>\n",
              "      <td>1</td>\n",
              "      <td>1</td>\n",
              "      <td>1</td>\n",
              "      <td>0</td>\n",
              "    </tr>\n",
              "  </tbody>\n",
              "</table>\n",
              "</div>\n",
              "      <button class=\"colab-df-convert\" onclick=\"convertToInteractive('df-2e04b921-ca1c-42bc-b79c-cd58b53c52a6')\"\n",
              "              title=\"Convert this dataframe to an interactive table.\"\n",
              "              style=\"display:none;\">\n",
              "        \n",
              "  <svg xmlns=\"http://www.w3.org/2000/svg\" height=\"24px\"viewBox=\"0 0 24 24\"\n",
              "       width=\"24px\">\n",
              "    <path d=\"M0 0h24v24H0V0z\" fill=\"none\"/>\n",
              "    <path d=\"M18.56 5.44l.94 2.06.94-2.06 2.06-.94-2.06-.94-.94-2.06-.94 2.06-2.06.94zm-11 1L8.5 8.5l.94-2.06 2.06-.94-2.06-.94L8.5 2.5l-.94 2.06-2.06.94zm10 10l.94 2.06.94-2.06 2.06-.94-2.06-.94-.94-2.06-.94 2.06-2.06.94z\"/><path d=\"M17.41 7.96l-1.37-1.37c-.4-.4-.92-.59-1.43-.59-.52 0-1.04.2-1.43.59L10.3 9.45l-7.72 7.72c-.78.78-.78 2.05 0 2.83L4 21.41c.39.39.9.59 1.41.59.51 0 1.02-.2 1.41-.59l7.78-7.78 2.81-2.81c.8-.78.8-2.07 0-2.86zM5.41 20L4 18.59l7.72-7.72 1.47 1.35L5.41 20z\"/>\n",
              "  </svg>\n",
              "      </button>\n",
              "      \n",
              "  <style>\n",
              "    .colab-df-container {\n",
              "      display:flex;\n",
              "      flex-wrap:wrap;\n",
              "      gap: 12px;\n",
              "    }\n",
              "\n",
              "    .colab-df-convert {\n",
              "      background-color: #E8F0FE;\n",
              "      border: none;\n",
              "      border-radius: 50%;\n",
              "      cursor: pointer;\n",
              "      display: none;\n",
              "      fill: #1967D2;\n",
              "      height: 32px;\n",
              "      padding: 0 0 0 0;\n",
              "      width: 32px;\n",
              "    }\n",
              "\n",
              "    .colab-df-convert:hover {\n",
              "      background-color: #E2EBFA;\n",
              "      box-shadow: 0px 1px 2px rgba(60, 64, 67, 0.3), 0px 1px 3px 1px rgba(60, 64, 67, 0.15);\n",
              "      fill: #174EA6;\n",
              "    }\n",
              "\n",
              "    [theme=dark] .colab-df-convert {\n",
              "      background-color: #3B4455;\n",
              "      fill: #D2E3FC;\n",
              "    }\n",
              "\n",
              "    [theme=dark] .colab-df-convert:hover {\n",
              "      background-color: #434B5C;\n",
              "      box-shadow: 0px 1px 3px 1px rgba(0, 0, 0, 0.15);\n",
              "      filter: drop-shadow(0px 1px 2px rgba(0, 0, 0, 0.3));\n",
              "      fill: #FFFFFF;\n",
              "    }\n",
              "  </style>\n",
              "\n",
              "      <script>\n",
              "        const buttonEl =\n",
              "          document.querySelector('#df-2e04b921-ca1c-42bc-b79c-cd58b53c52a6 button.colab-df-convert');\n",
              "        buttonEl.style.display =\n",
              "          google.colab.kernel.accessAllowed ? 'block' : 'none';\n",
              "\n",
              "        async function convertToInteractive(key) {\n",
              "          const element = document.querySelector('#df-2e04b921-ca1c-42bc-b79c-cd58b53c52a6');\n",
              "          const dataTable =\n",
              "            await google.colab.kernel.invokeFunction('convertToInteractive',\n",
              "                                                     [key], {});\n",
              "          if (!dataTable) return;\n",
              "\n",
              "          const docLinkHtml = 'Like what you see? Visit the ' +\n",
              "            '<a target=\"_blank\" href=https://colab.research.google.com/notebooks/data_table.ipynb>data table notebook</a>'\n",
              "            + ' to learn more about interactive tables.';\n",
              "          element.innerHTML = '';\n",
              "          dataTable['output_type'] = 'display_data';\n",
              "          await google.colab.output.renderOutput(dataTable, element);\n",
              "          const docLink = document.createElement('div');\n",
              "          docLink.innerHTML = docLinkHtml;\n",
              "          element.appendChild(docLink);\n",
              "        }\n",
              "      </script>\n",
              "    </div>\n",
              "  </div>\n",
              "  "
            ],
            "text/plain": [
              "   enjoy  fox  brown  jump  sunshine  state  fast  run  high,\n",
              "0      0    0      0     0         0      0     0    0      0\n",
              "1      0    2      2     1         0      0     0    1      1\n",
              "2      0    1      0     0         1      1     1    1      0"
            ]
          },
          "execution_count": 39,
          "metadata": {},
          "output_type": "execute_result"
        }
      ],
      "source": [
        "pd.DataFrame([wordDict1, wordDict2 ,wordDict3])"
      ]
    },
    {
      "cell_type": "code",
      "execution_count": 40,
      "metadata": {
        "id": "G1p7ICKZKHpu"
      },
      "outputs": [],
      "source": [
        "def computeTF(wordDict, bow):\n",
        "    tfDict = {}\n",
        "    bowCount = len(bow)\n",
        "    for word, count in wordDict.items():\n",
        "        tfDict[word] = count/float(bowCount)\n",
        "    return tfDict\n",
        "tfBowA = computeTF(wordDict1, BOW1)\n",
        "tfBowB = computeTF(wordDict2, BOW2)\n",
        "tfBowC = computeTF(wordDict3, BOW3)"
      ]
    },
    {
      "cell_type": "code",
      "execution_count": 41,
      "metadata": {
        "colab": {
          "base_uri": "https://localhost:8080/"
        },
        "id": "Ich4wJHhKOT-",
        "outputId": "86166a85-e6b8-43a2-e041-e6f483b95cc8"
      },
      "outputs": [
        {
          "data": {
            "text/plain": [
              "{'enjoy': 0.0,\n",
              " 'fox': 0.0,\n",
              " 'brown': 0.0,\n",
              " 'jump': 0.0,\n",
              " 'sunshine': 0.0,\n",
              " 'state': 0.0,\n",
              " 'fast': 0.0,\n",
              " 'run': 0.0,\n",
              " 'high,': 0.0}"
            ]
          },
          "execution_count": 41,
          "metadata": {},
          "output_type": "execute_result"
        }
      ],
      "source": [
        "tfBowA"
      ]
    },
    {
      "cell_type": "code",
      "execution_count": 42,
      "metadata": {
        "colab": {
          "base_uri": "https://localhost:8080/"
        },
        "id": "aRb-N8etKQUS",
        "outputId": "82d3dc94-f8ab-47ed-da3f-6fce2a2710b4"
      },
      "outputs": [
        {
          "data": {
            "text/plain": [
              "{'enjoy': 0.0,\n",
              " 'fox': 0.2857142857142857,\n",
              " 'brown': 0.2857142857142857,\n",
              " 'jump': 0.14285714285714285,\n",
              " 'sunshine': 0.0,\n",
              " 'state': 0.0,\n",
              " 'fast': 0.0,\n",
              " 'run': 0.14285714285714285,\n",
              " 'high,': 0.14285714285714285}"
            ]
          },
          "execution_count": 42,
          "metadata": {},
          "output_type": "execute_result"
        }
      ],
      "source": [
        "tfBowB"
      ]
    },
    {
      "cell_type": "code",
      "execution_count": 17,
      "metadata": {
        "colab": {
          "base_uri": "https://localhost:8080/"
        },
        "id": "iOLKa3QgKTO6",
        "outputId": "ed81274d-9389-4868-a5e9-71192055d5cd"
      },
      "outputs": [
        {
          "data": {
            "text/plain": [
              "{'enjoy': 0.0,\n",
              " 'fox': 0.2,\n",
              " 'brown': 0.0,\n",
              " 'jump': 0.0,\n",
              " 'sunshine': 0.2,\n",
              " 'state': 0.2,\n",
              " 'fast': 0.2,\n",
              " 'run': 0.2,\n",
              " 'high,': 0.0}"
            ]
          },
          "execution_count": 17,
          "metadata": {},
          "output_type": "execute_result"
        }
      ],
      "source": [
        "tfBowC"
      ]
    },
    {
      "cell_type": "code",
      "execution_count": 43,
      "metadata": {
        "id": "qgh2tSCeKVZr"
      },
      "outputs": [],
      "source": [
        "def computeIDF(docList):\n",
        "    import math\n",
        "    idfDict = {}\n",
        "    N = len(docList)\n",
        "    \n",
        "    idfDict = dict.fromkeys(docList[0].keys(), 0)\n",
        "    for doc in docList:\n",
        "        for word, val in doc.items():\n",
        "            if val > 0:\n",
        "                idfDict[word] += 1\n",
        "    \n",
        "    for word, val in idfDict.items():\n",
        "        idfDict[word] = math.log10(N / float(val))\n",
        "        \n",
        "    return idfDict    "
      ]
    },
    {
      "cell_type": "code",
      "execution_count": 19,
      "metadata": {
        "id": "N9KMHr3rKYsB"
      },
      "outputs": [],
      "source": [
        "idfs = computeIDF([wordDict1, wordDict2 , wordDict3])"
      ]
    },
    {
      "cell_type": "code",
      "execution_count": 20,
      "metadata": {
        "id": "F4ACU_vaKdQU"
      },
      "outputs": [],
      "source": [
        "def computeTFIDF(tfBow, idfs):\n",
        "    tfidf = {}\n",
        "    for word, val in tfBow.items():\n",
        "        tfidf[word] = val*idfs[word]\n",
        "    return tfidf\n",
        "    \n",
        "tfidfBowA = computeTFIDF(tfBowA, idfs)\n",
        "tfidfBowB = computeTFIDF(tfBowB, idfs)\n",
        "tfidfBowC = computeTFIDF(tfBowC, idfs)"
      ]
    },
    {
      "cell_type": "code",
      "execution_count": 21,
      "metadata": {
        "colab": {
          "base_uri": "https://localhost:8080/",
          "height": 144
        },
        "id": "9RsiPw5TKhKR",
        "outputId": "fdaea2b2-1eee-4a9b-bedc-f3ce5b67d5bf"
      },
      "outputs": [
        {
          "data": {
            "text/html": [
              "\n",
              "  <div id=\"df-c145f762-52f2-4708-8c15-f6e1908e21a9\">\n",
              "    <div class=\"colab-df-container\">\n",
              "      <div>\n",
              "<style scoped>\n",
              "    .dataframe tbody tr th:only-of-type {\n",
              "        vertical-align: middle;\n",
              "    }\n",
              "\n",
              "    .dataframe tbody tr th {\n",
              "        vertical-align: top;\n",
              "    }\n",
              "\n",
              "    .dataframe thead th {\n",
              "        text-align: right;\n",
              "    }\n",
              "</style>\n",
              "<table border=\"1\" class=\"dataframe\">\n",
              "  <thead>\n",
              "    <tr style=\"text-align: right;\">\n",
              "      <th></th>\n",
              "      <th>enjoy</th>\n",
              "      <th>fox</th>\n",
              "      <th>brown</th>\n",
              "      <th>jump</th>\n",
              "      <th>sunshine</th>\n",
              "      <th>state</th>\n",
              "      <th>fast</th>\n",
              "      <th>run</th>\n",
              "      <th>high,</th>\n",
              "    </tr>\n",
              "  </thead>\n",
              "  <tbody>\n",
              "    <tr>\n",
              "      <th>0</th>\n",
              "      <td>0.11928</td>\n",
              "      <td>0.000000</td>\n",
              "      <td>0.00000</td>\n",
              "      <td>0.00000</td>\n",
              "      <td>0.088046</td>\n",
              "      <td>0.044023</td>\n",
              "      <td>0.000000</td>\n",
              "      <td>0.000000</td>\n",
              "      <td>0.00000</td>\n",
              "    </tr>\n",
              "    <tr>\n",
              "      <th>1</th>\n",
              "      <td>0.00000</td>\n",
              "      <td>0.050312</td>\n",
              "      <td>0.13632</td>\n",
              "      <td>0.06816</td>\n",
              "      <td>0.000000</td>\n",
              "      <td>0.000000</td>\n",
              "      <td>0.000000</td>\n",
              "      <td>0.025156</td>\n",
              "      <td>0.06816</td>\n",
              "    </tr>\n",
              "    <tr>\n",
              "      <th>2</th>\n",
              "      <td>0.00000</td>\n",
              "      <td>0.035218</td>\n",
              "      <td>0.00000</td>\n",
              "      <td>0.00000</td>\n",
              "      <td>0.035218</td>\n",
              "      <td>0.035218</td>\n",
              "      <td>0.095424</td>\n",
              "      <td>0.035218</td>\n",
              "      <td>0.00000</td>\n",
              "    </tr>\n",
              "  </tbody>\n",
              "</table>\n",
              "</div>\n",
              "      <button class=\"colab-df-convert\" onclick=\"convertToInteractive('df-c145f762-52f2-4708-8c15-f6e1908e21a9')\"\n",
              "              title=\"Convert this dataframe to an interactive table.\"\n",
              "              style=\"display:none;\">\n",
              "        \n",
              "  <svg xmlns=\"http://www.w3.org/2000/svg\" height=\"24px\"viewBox=\"0 0 24 24\"\n",
              "       width=\"24px\">\n",
              "    <path d=\"M0 0h24v24H0V0z\" fill=\"none\"/>\n",
              "    <path d=\"M18.56 5.44l.94 2.06.94-2.06 2.06-.94-2.06-.94-.94-2.06-.94 2.06-2.06.94zm-11 1L8.5 8.5l.94-2.06 2.06-.94-2.06-.94L8.5 2.5l-.94 2.06-2.06.94zm10 10l.94 2.06.94-2.06 2.06-.94-2.06-.94-.94-2.06-.94 2.06-2.06.94z\"/><path d=\"M17.41 7.96l-1.37-1.37c-.4-.4-.92-.59-1.43-.59-.52 0-1.04.2-1.43.59L10.3 9.45l-7.72 7.72c-.78.78-.78 2.05 0 2.83L4 21.41c.39.39.9.59 1.41.59.51 0 1.02-.2 1.41-.59l7.78-7.78 2.81-2.81c.8-.78.8-2.07 0-2.86zM5.41 20L4 18.59l7.72-7.72 1.47 1.35L5.41 20z\"/>\n",
              "  </svg>\n",
              "      </button>\n",
              "      \n",
              "  <style>\n",
              "    .colab-df-container {\n",
              "      display:flex;\n",
              "      flex-wrap:wrap;\n",
              "      gap: 12px;\n",
              "    }\n",
              "\n",
              "    .colab-df-convert {\n",
              "      background-color: #E8F0FE;\n",
              "      border: none;\n",
              "      border-radius: 50%;\n",
              "      cursor: pointer;\n",
              "      display: none;\n",
              "      fill: #1967D2;\n",
              "      height: 32px;\n",
              "      padding: 0 0 0 0;\n",
              "      width: 32px;\n",
              "    }\n",
              "\n",
              "    .colab-df-convert:hover {\n",
              "      background-color: #E2EBFA;\n",
              "      box-shadow: 0px 1px 2px rgba(60, 64, 67, 0.3), 0px 1px 3px 1px rgba(60, 64, 67, 0.15);\n",
              "      fill: #174EA6;\n",
              "    }\n",
              "\n",
              "    [theme=dark] .colab-df-convert {\n",
              "      background-color: #3B4455;\n",
              "      fill: #D2E3FC;\n",
              "    }\n",
              "\n",
              "    [theme=dark] .colab-df-convert:hover {\n",
              "      background-color: #434B5C;\n",
              "      box-shadow: 0px 1px 3px 1px rgba(0, 0, 0, 0.15);\n",
              "      filter: drop-shadow(0px 1px 2px rgba(0, 0, 0, 0.3));\n",
              "      fill: #FFFFFF;\n",
              "    }\n",
              "  </style>\n",
              "\n",
              "      <script>\n",
              "        const buttonEl =\n",
              "          document.querySelector('#df-c145f762-52f2-4708-8c15-f6e1908e21a9 button.colab-df-convert');\n",
              "        buttonEl.style.display =\n",
              "          google.colab.kernel.accessAllowed ? 'block' : 'none';\n",
              "\n",
              "        async function convertToInteractive(key) {\n",
              "          const element = document.querySelector('#df-c145f762-52f2-4708-8c15-f6e1908e21a9');\n",
              "          const dataTable =\n",
              "            await google.colab.kernel.invokeFunction('convertToInteractive',\n",
              "                                                     [key], {});\n",
              "          if (!dataTable) return;\n",
              "\n",
              "          const docLinkHtml = 'Like what you see? Visit the ' +\n",
              "            '<a target=\"_blank\" href=https://colab.research.google.com/notebooks/data_table.ipynb>data table notebook</a>'\n",
              "            + ' to learn more about interactive tables.';\n",
              "          element.innerHTML = '';\n",
              "          dataTable['output_type'] = 'display_data';\n",
              "          await google.colab.output.renderOutput(dataTable, element);\n",
              "          const docLink = document.createElement('div');\n",
              "          docLink.innerHTML = docLinkHtml;\n",
              "          element.appendChild(docLink);\n",
              "        }\n",
              "      </script>\n",
              "    </div>\n",
              "  </div>\n",
              "  "
            ],
            "text/plain": [
              "     enjoy       fox    brown     jump  sunshine     state      fast  \\\n",
              "0  0.11928  0.000000  0.00000  0.00000  0.088046  0.044023  0.000000   \n",
              "1  0.00000  0.050312  0.13632  0.06816  0.000000  0.000000  0.000000   \n",
              "2  0.00000  0.035218  0.00000  0.00000  0.035218  0.035218  0.095424   \n",
              "\n",
              "        run    high,  \n",
              "0  0.000000  0.00000  \n",
              "1  0.025156  0.06816  \n",
              "2  0.035218  0.00000  "
            ]
          },
          "execution_count": 21,
          "metadata": {},
          "output_type": "execute_result"
        }
      ],
      "source": [
        "pd.DataFrame([tfidfBowA, tfidfBowB , tfidfBowC])"
      ]
    },
    {
      "cell_type": "code",
      "execution_count": 44,
      "metadata": {
        "colab": {
          "base_uri": "https://localhost:8080/"
        },
        "id": "eHG2pfagKpqP",
        "outputId": "52aee293-b99a-458a-9808-f5753d8884ff"
      },
      "outputs": [
        {
          "name": "stdout",
          "output_type": "stream",
          "text": [
            "S1: [2 1 1 0 0 0 0 0 0]\n",
            "S3: [1 1 0 0 1 0 0 1 1]\n"
          ]
        }
      ],
      "source": [
        "\n",
        "S1 = np.array([2,1,1,0,0,0,0,0,0])\n",
        "S3 = np.array([1,1,0,0,1,0,0,1,1])\n",
        "print(\"S1:\", S1)\n",
        "print(\"S3:\", S3)"
      ]
    },
    {
      "cell_type": "code",
      "execution_count": 28,
      "metadata": {
        "colab": {
          "base_uri": "https://localhost:8080/"
        },
        "id": "3RIurQQSKy5z",
        "outputId": "38a4fe3b-f1ca-47de-caa5-8aba421dba47"
      },
      "outputs": [
        {
          "name": "stdout",
          "output_type": "stream",
          "text": [
            "Cosine Similarity between S1 and S3 : 0.5477225575051661\n"
          ]
        }
      ],
      "source": [
        "\n",
        "cosine = np.dot(S1,S3)/(norm(S1)*norm(S3))\n",
        "print(\"Cosine Similarity between S1 and S3 :\", cosine)"
      ]
    }
  ],
  "metadata": {
    "colab": {
      "provenance": []
    },
    "kernelspec": {
      "display_name": "Python 3",
      "language": "python",
      "name": "python3"
    },
    "language_info": {
      "name": "python",
      "version": "3.10.7 (tags/v3.10.7:6cc6b13, Sep  5 2022, 14:08:36) [MSC v.1933 64 bit (AMD64)]"
    },
    "vscode": {
      "interpreter": {
        "hash": "59bd4cb7b6e1614a3db9859808dc7dae3d85757746ec36e3ee77571f2c93965d"
      }
    }
  },
  "nbformat": 4,
  "nbformat_minor": 0
}
