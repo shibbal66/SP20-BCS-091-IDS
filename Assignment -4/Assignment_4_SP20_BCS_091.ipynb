{
  "nbformat": 4,
  "nbformat_minor": 0,
  "metadata": {
    "colab": {
      "provenance": []
    },
    "kernelspec": {
      "name": "python3",
      "display_name": "Python 3"
    },
    "language_info": {
      "name": "python"
    }
  },
  "cells": [
    {
      "cell_type": "code",
      "source": [
        "#Mounting google drive\n",
        "from google.colab import drive\n",
        "drive.mount('/content/drive')"
      ],
      "metadata": {
        "colab": {
          "base_uri": "https://localhost:8080/"
        },
        "id": "cTCf6KhvcwMo",
        "outputId": "6462fd31-6523-4d9a-8656-800f96afc6f1"
      },
      "execution_count": 7,
      "outputs": [
        {
          "output_type": "stream",
          "name": "stdout",
          "text": [
            "Mounted at /content/drive\n"
          ]
        }
      ]
    },
    {
      "cell_type": "code",
      "execution_count": 65,
      "metadata": {
        "id": "Vb8CTgcFbAzH"
      },
      "outputs": [],
      "source": [
        "import pandas as pd\n",
        "import numpy as np\n",
        "import seaborn as sns \n",
        "%matplotlib inline\n",
        "from matplotlib import pyplot as plt\n",
        "from matplotlib import style\n",
        "import random\n",
        "from sklearn import preprocessing\n",
        "\n",
        "#importing different ML Classifiers\n",
        "from sklearn.ensemble import RandomForestClassifier\n",
        "from sklearn import svm\n",
        "from sklearn.neural_network import MLPClassifier\n",
        "from sklearn.tree import DecisionTreeClassifier\n",
        "from sklearn.naive_bayes import GaussianNB\n",
        "\n",
        "\n",
        "#importing ML evaluation metrics\n",
        "from sklearn import metrics, model_selection\n",
        "from sklearn.metrics import accuracy_score, confusion_matrix, ConfusionMatrixDisplay, f1_score\n",
        "from sklearn.model_selection import train_test_split, ShuffleSplit, cross_val_score, LeavePOut\n",
        "from array import array\n",
        "from sklearn.metrics import accuracy_score, f1_score, precision_score, recall_score\n",
        "\n",
        "\n",
        "\n"
      ]
    },
    {
      "cell_type": "code",
      "source": [
        "csvData= pd.read_csv('/content/drive/MyDrive/gender.csv')\n",
        "csvData"
      ],
      "metadata": {
        "colab": {
          "base_uri": "https://localhost:8080/",
          "height": 424
        },
        "id": "GdbF8BM8cuTM",
        "outputId": "b769d63c-3280-4e10-cfce-506bc866edfe"
      },
      "execution_count": 9,
      "outputs": [
        {
          "output_type": "execute_result",
          "data": {
            "text/plain": [
              "    height  weight beard hair_length  shoe_size scarf eye_color  gender\n",
              "0       71     176   yes       short         44    no     black    male\n",
              "1       68     165    no        bald         41    no     black    male\n",
              "2       62     132    no      medium         37   yes      blue  female\n",
              "3       65     138    no        long         38    no      gray  female\n",
              "4       70     197   yes      medium         43    no      gray    male\n",
              "..     ...     ...   ...         ...        ...   ...       ...     ...\n",
              "75      65      99    no       short         39   yes     green  female\n",
              "76      61      98    no       short         37    no     brown  female\n",
              "77      67     119   yes       short         40    no     black    male\n",
              "78      70     190   yes      medium         43    no      gray    male\n",
              "79      62     142   yes        long         37    no      blue  female\n",
              "\n",
              "[80 rows x 8 columns]"
            ],
            "text/html": [
              "\n",
              "  <div id=\"df-6035f12f-bf17-47f2-859f-7c83b1b014a5\">\n",
              "    <div class=\"colab-df-container\">\n",
              "      <div>\n",
              "<style scoped>\n",
              "    .dataframe tbody tr th:only-of-type {\n",
              "        vertical-align: middle;\n",
              "    }\n",
              "\n",
              "    .dataframe tbody tr th {\n",
              "        vertical-align: top;\n",
              "    }\n",
              "\n",
              "    .dataframe thead th {\n",
              "        text-align: right;\n",
              "    }\n",
              "</style>\n",
              "<table border=\"1\" class=\"dataframe\">\n",
              "  <thead>\n",
              "    <tr style=\"text-align: right;\">\n",
              "      <th></th>\n",
              "      <th>height</th>\n",
              "      <th>weight</th>\n",
              "      <th>beard</th>\n",
              "      <th>hair_length</th>\n",
              "      <th>shoe_size</th>\n",
              "      <th>scarf</th>\n",
              "      <th>eye_color</th>\n",
              "      <th>gender</th>\n",
              "    </tr>\n",
              "  </thead>\n",
              "  <tbody>\n",
              "    <tr>\n",
              "      <th>0</th>\n",
              "      <td>71</td>\n",
              "      <td>176</td>\n",
              "      <td>yes</td>\n",
              "      <td>short</td>\n",
              "      <td>44</td>\n",
              "      <td>no</td>\n",
              "      <td>black</td>\n",
              "      <td>male</td>\n",
              "    </tr>\n",
              "    <tr>\n",
              "      <th>1</th>\n",
              "      <td>68</td>\n",
              "      <td>165</td>\n",
              "      <td>no</td>\n",
              "      <td>bald</td>\n",
              "      <td>41</td>\n",
              "      <td>no</td>\n",
              "      <td>black</td>\n",
              "      <td>male</td>\n",
              "    </tr>\n",
              "    <tr>\n",
              "      <th>2</th>\n",
              "      <td>62</td>\n",
              "      <td>132</td>\n",
              "      <td>no</td>\n",
              "      <td>medium</td>\n",
              "      <td>37</td>\n",
              "      <td>yes</td>\n",
              "      <td>blue</td>\n",
              "      <td>female</td>\n",
              "    </tr>\n",
              "    <tr>\n",
              "      <th>3</th>\n",
              "      <td>65</td>\n",
              "      <td>138</td>\n",
              "      <td>no</td>\n",
              "      <td>long</td>\n",
              "      <td>38</td>\n",
              "      <td>no</td>\n",
              "      <td>gray</td>\n",
              "      <td>female</td>\n",
              "    </tr>\n",
              "    <tr>\n",
              "      <th>4</th>\n",
              "      <td>70</td>\n",
              "      <td>197</td>\n",
              "      <td>yes</td>\n",
              "      <td>medium</td>\n",
              "      <td>43</td>\n",
              "      <td>no</td>\n",
              "      <td>gray</td>\n",
              "      <td>male</td>\n",
              "    </tr>\n",
              "    <tr>\n",
              "      <th>...</th>\n",
              "      <td>...</td>\n",
              "      <td>...</td>\n",
              "      <td>...</td>\n",
              "      <td>...</td>\n",
              "      <td>...</td>\n",
              "      <td>...</td>\n",
              "      <td>...</td>\n",
              "      <td>...</td>\n",
              "    </tr>\n",
              "    <tr>\n",
              "      <th>75</th>\n",
              "      <td>65</td>\n",
              "      <td>99</td>\n",
              "      <td>no</td>\n",
              "      <td>short</td>\n",
              "      <td>39</td>\n",
              "      <td>yes</td>\n",
              "      <td>green</td>\n",
              "      <td>female</td>\n",
              "    </tr>\n",
              "    <tr>\n",
              "      <th>76</th>\n",
              "      <td>61</td>\n",
              "      <td>98</td>\n",
              "      <td>no</td>\n",
              "      <td>short</td>\n",
              "      <td>37</td>\n",
              "      <td>no</td>\n",
              "      <td>brown</td>\n",
              "      <td>female</td>\n",
              "    </tr>\n",
              "    <tr>\n",
              "      <th>77</th>\n",
              "      <td>67</td>\n",
              "      <td>119</td>\n",
              "      <td>yes</td>\n",
              "      <td>short</td>\n",
              "      <td>40</td>\n",
              "      <td>no</td>\n",
              "      <td>black</td>\n",
              "      <td>male</td>\n",
              "    </tr>\n",
              "    <tr>\n",
              "      <th>78</th>\n",
              "      <td>70</td>\n",
              "      <td>190</td>\n",
              "      <td>yes</td>\n",
              "      <td>medium</td>\n",
              "      <td>43</td>\n",
              "      <td>no</td>\n",
              "      <td>gray</td>\n",
              "      <td>male</td>\n",
              "    </tr>\n",
              "    <tr>\n",
              "      <th>79</th>\n",
              "      <td>62</td>\n",
              "      <td>142</td>\n",
              "      <td>yes</td>\n",
              "      <td>long</td>\n",
              "      <td>37</td>\n",
              "      <td>no</td>\n",
              "      <td>blue</td>\n",
              "      <td>female</td>\n",
              "    </tr>\n",
              "  </tbody>\n",
              "</table>\n",
              "<p>80 rows × 8 columns</p>\n",
              "</div>\n",
              "      <button class=\"colab-df-convert\" onclick=\"convertToInteractive('df-6035f12f-bf17-47f2-859f-7c83b1b014a5')\"\n",
              "              title=\"Convert this dataframe to an interactive table.\"\n",
              "              style=\"display:none;\">\n",
              "        \n",
              "  <svg xmlns=\"http://www.w3.org/2000/svg\" height=\"24px\"viewBox=\"0 0 24 24\"\n",
              "       width=\"24px\">\n",
              "    <path d=\"M0 0h24v24H0V0z\" fill=\"none\"/>\n",
              "    <path d=\"M18.56 5.44l.94 2.06.94-2.06 2.06-.94-2.06-.94-.94-2.06-.94 2.06-2.06.94zm-11 1L8.5 8.5l.94-2.06 2.06-.94-2.06-.94L8.5 2.5l-.94 2.06-2.06.94zm10 10l.94 2.06.94-2.06 2.06-.94-2.06-.94-.94-2.06-.94 2.06-2.06.94z\"/><path d=\"M17.41 7.96l-1.37-1.37c-.4-.4-.92-.59-1.43-.59-.52 0-1.04.2-1.43.59L10.3 9.45l-7.72 7.72c-.78.78-.78 2.05 0 2.83L4 21.41c.39.39.9.59 1.41.59.51 0 1.02-.2 1.41-.59l7.78-7.78 2.81-2.81c.8-.78.8-2.07 0-2.86zM5.41 20L4 18.59l7.72-7.72 1.47 1.35L5.41 20z\"/>\n",
              "  </svg>\n",
              "      </button>\n",
              "      \n",
              "  <style>\n",
              "    .colab-df-container {\n",
              "      display:flex;\n",
              "      flex-wrap:wrap;\n",
              "      gap: 12px;\n",
              "    }\n",
              "\n",
              "    .colab-df-convert {\n",
              "      background-color: #E8F0FE;\n",
              "      border: none;\n",
              "      border-radius: 50%;\n",
              "      cursor: pointer;\n",
              "      display: none;\n",
              "      fill: #1967D2;\n",
              "      height: 32px;\n",
              "      padding: 0 0 0 0;\n",
              "      width: 32px;\n",
              "    }\n",
              "\n",
              "    .colab-df-convert:hover {\n",
              "      background-color: #E2EBFA;\n",
              "      box-shadow: 0px 1px 2px rgba(60, 64, 67, 0.3), 0px 1px 3px 1px rgba(60, 64, 67, 0.15);\n",
              "      fill: #174EA6;\n",
              "    }\n",
              "\n",
              "    [theme=dark] .colab-df-convert {\n",
              "      background-color: #3B4455;\n",
              "      fill: #D2E3FC;\n",
              "    }\n",
              "\n",
              "    [theme=dark] .colab-df-convert:hover {\n",
              "      background-color: #434B5C;\n",
              "      box-shadow: 0px 1px 3px 1px rgba(0, 0, 0, 0.15);\n",
              "      filter: drop-shadow(0px 1px 2px rgba(0, 0, 0, 0.3));\n",
              "      fill: #FFFFFF;\n",
              "    }\n",
              "  </style>\n",
              "\n",
              "      <script>\n",
              "        const buttonEl =\n",
              "          document.querySelector('#df-6035f12f-bf17-47f2-859f-7c83b1b014a5 button.colab-df-convert');\n",
              "        buttonEl.style.display =\n",
              "          google.colab.kernel.accessAllowed ? 'block' : 'none';\n",
              "\n",
              "        async function convertToInteractive(key) {\n",
              "          const element = document.querySelector('#df-6035f12f-bf17-47f2-859f-7c83b1b014a5');\n",
              "          const dataTable =\n",
              "            await google.colab.kernel.invokeFunction('convertToInteractive',\n",
              "                                                     [key], {});\n",
              "          if (!dataTable) return;\n",
              "\n",
              "          const docLinkHtml = 'Like what you see? Visit the ' +\n",
              "            '<a target=\"_blank\" href=https://colab.research.google.com/notebooks/data_table.ipynb>data table notebook</a>'\n",
              "            + ' to learn more about interactive tables.';\n",
              "          element.innerHTML = '';\n",
              "          dataTable['output_type'] = 'display_data';\n",
              "          await google.colab.output.renderOutput(dataTable, element);\n",
              "          const docLink = document.createElement('div');\n",
              "          docLink.innerHTML = docLinkHtml;\n",
              "          element.appendChild(docLink);\n",
              "        }\n",
              "      </script>\n",
              "    </div>\n",
              "  </div>\n",
              "  "
            ]
          },
          "metadata": {},
          "execution_count": 9
        }
      ]
    },
    {
      "cell_type": "code",
      "source": [
        "csvData.head(10)"
      ],
      "metadata": {
        "colab": {
          "base_uri": "https://localhost:8080/",
          "height": 363
        },
        "id": "8E9dbG-ucXux",
        "outputId": "e2298954-2fdd-48f9-8912-f6f1b76cc9c6"
      },
      "execution_count": 10,
      "outputs": [
        {
          "output_type": "execute_result",
          "data": {
            "text/plain": [
              "   height  weight beard hair_length  shoe_size scarf eye_color  gender\n",
              "0      71     176   yes       short         44    no     black    male\n",
              "1      68     165    no        bald         41    no     black    male\n",
              "2      62     132    no      medium         37   yes      blue  female\n",
              "3      65     138    no        long         38    no      gray  female\n",
              "4      70     197   yes      medium         43    no      gray    male\n",
              "5      71     190   yes       short         43    no     black    male\n",
              "6      74     201   yes        bald         44    no     brown    male\n",
              "7      74     182    no       short         46    no     brown    male\n",
              "8      63     127    no       short         35    no     green  female\n",
              "9      65     139    no      medium         37   yes      gray  female"
            ],
            "text/html": [
              "\n",
              "  <div id=\"df-e61e0710-4b60-41b7-891e-acccc0fc175a\">\n",
              "    <div class=\"colab-df-container\">\n",
              "      <div>\n",
              "<style scoped>\n",
              "    .dataframe tbody tr th:only-of-type {\n",
              "        vertical-align: middle;\n",
              "    }\n",
              "\n",
              "    .dataframe tbody tr th {\n",
              "        vertical-align: top;\n",
              "    }\n",
              "\n",
              "    .dataframe thead th {\n",
              "        text-align: right;\n",
              "    }\n",
              "</style>\n",
              "<table border=\"1\" class=\"dataframe\">\n",
              "  <thead>\n",
              "    <tr style=\"text-align: right;\">\n",
              "      <th></th>\n",
              "      <th>height</th>\n",
              "      <th>weight</th>\n",
              "      <th>beard</th>\n",
              "      <th>hair_length</th>\n",
              "      <th>shoe_size</th>\n",
              "      <th>scarf</th>\n",
              "      <th>eye_color</th>\n",
              "      <th>gender</th>\n",
              "    </tr>\n",
              "  </thead>\n",
              "  <tbody>\n",
              "    <tr>\n",
              "      <th>0</th>\n",
              "      <td>71</td>\n",
              "      <td>176</td>\n",
              "      <td>yes</td>\n",
              "      <td>short</td>\n",
              "      <td>44</td>\n",
              "      <td>no</td>\n",
              "      <td>black</td>\n",
              "      <td>male</td>\n",
              "    </tr>\n",
              "    <tr>\n",
              "      <th>1</th>\n",
              "      <td>68</td>\n",
              "      <td>165</td>\n",
              "      <td>no</td>\n",
              "      <td>bald</td>\n",
              "      <td>41</td>\n",
              "      <td>no</td>\n",
              "      <td>black</td>\n",
              "      <td>male</td>\n",
              "    </tr>\n",
              "    <tr>\n",
              "      <th>2</th>\n",
              "      <td>62</td>\n",
              "      <td>132</td>\n",
              "      <td>no</td>\n",
              "      <td>medium</td>\n",
              "      <td>37</td>\n",
              "      <td>yes</td>\n",
              "      <td>blue</td>\n",
              "      <td>female</td>\n",
              "    </tr>\n",
              "    <tr>\n",
              "      <th>3</th>\n",
              "      <td>65</td>\n",
              "      <td>138</td>\n",
              "      <td>no</td>\n",
              "      <td>long</td>\n",
              "      <td>38</td>\n",
              "      <td>no</td>\n",
              "      <td>gray</td>\n",
              "      <td>female</td>\n",
              "    </tr>\n",
              "    <tr>\n",
              "      <th>4</th>\n",
              "      <td>70</td>\n",
              "      <td>197</td>\n",
              "      <td>yes</td>\n",
              "      <td>medium</td>\n",
              "      <td>43</td>\n",
              "      <td>no</td>\n",
              "      <td>gray</td>\n",
              "      <td>male</td>\n",
              "    </tr>\n",
              "    <tr>\n",
              "      <th>5</th>\n",
              "      <td>71</td>\n",
              "      <td>190</td>\n",
              "      <td>yes</td>\n",
              "      <td>short</td>\n",
              "      <td>43</td>\n",
              "      <td>no</td>\n",
              "      <td>black</td>\n",
              "      <td>male</td>\n",
              "    </tr>\n",
              "    <tr>\n",
              "      <th>6</th>\n",
              "      <td>74</td>\n",
              "      <td>201</td>\n",
              "      <td>yes</td>\n",
              "      <td>bald</td>\n",
              "      <td>44</td>\n",
              "      <td>no</td>\n",
              "      <td>brown</td>\n",
              "      <td>male</td>\n",
              "    </tr>\n",
              "    <tr>\n",
              "      <th>7</th>\n",
              "      <td>74</td>\n",
              "      <td>182</td>\n",
              "      <td>no</td>\n",
              "      <td>short</td>\n",
              "      <td>46</td>\n",
              "      <td>no</td>\n",
              "      <td>brown</td>\n",
              "      <td>male</td>\n",
              "    </tr>\n",
              "    <tr>\n",
              "      <th>8</th>\n",
              "      <td>63</td>\n",
              "      <td>127</td>\n",
              "      <td>no</td>\n",
              "      <td>short</td>\n",
              "      <td>35</td>\n",
              "      <td>no</td>\n",
              "      <td>green</td>\n",
              "      <td>female</td>\n",
              "    </tr>\n",
              "    <tr>\n",
              "      <th>9</th>\n",
              "      <td>65</td>\n",
              "      <td>139</td>\n",
              "      <td>no</td>\n",
              "      <td>medium</td>\n",
              "      <td>37</td>\n",
              "      <td>yes</td>\n",
              "      <td>gray</td>\n",
              "      <td>female</td>\n",
              "    </tr>\n",
              "  </tbody>\n",
              "</table>\n",
              "</div>\n",
              "      <button class=\"colab-df-convert\" onclick=\"convertToInteractive('df-e61e0710-4b60-41b7-891e-acccc0fc175a')\"\n",
              "              title=\"Convert this dataframe to an interactive table.\"\n",
              "              style=\"display:none;\">\n",
              "        \n",
              "  <svg xmlns=\"http://www.w3.org/2000/svg\" height=\"24px\"viewBox=\"0 0 24 24\"\n",
              "       width=\"24px\">\n",
              "    <path d=\"M0 0h24v24H0V0z\" fill=\"none\"/>\n",
              "    <path d=\"M18.56 5.44l.94 2.06.94-2.06 2.06-.94-2.06-.94-.94-2.06-.94 2.06-2.06.94zm-11 1L8.5 8.5l.94-2.06 2.06-.94-2.06-.94L8.5 2.5l-.94 2.06-2.06.94zm10 10l.94 2.06.94-2.06 2.06-.94-2.06-.94-.94-2.06-.94 2.06-2.06.94z\"/><path d=\"M17.41 7.96l-1.37-1.37c-.4-.4-.92-.59-1.43-.59-.52 0-1.04.2-1.43.59L10.3 9.45l-7.72 7.72c-.78.78-.78 2.05 0 2.83L4 21.41c.39.39.9.59 1.41.59.51 0 1.02-.2 1.41-.59l7.78-7.78 2.81-2.81c.8-.78.8-2.07 0-2.86zM5.41 20L4 18.59l7.72-7.72 1.47 1.35L5.41 20z\"/>\n",
              "  </svg>\n",
              "      </button>\n",
              "      \n",
              "  <style>\n",
              "    .colab-df-container {\n",
              "      display:flex;\n",
              "      flex-wrap:wrap;\n",
              "      gap: 12px;\n",
              "    }\n",
              "\n",
              "    .colab-df-convert {\n",
              "      background-color: #E8F0FE;\n",
              "      border: none;\n",
              "      border-radius: 50%;\n",
              "      cursor: pointer;\n",
              "      display: none;\n",
              "      fill: #1967D2;\n",
              "      height: 32px;\n",
              "      padding: 0 0 0 0;\n",
              "      width: 32px;\n",
              "    }\n",
              "\n",
              "    .colab-df-convert:hover {\n",
              "      background-color: #E2EBFA;\n",
              "      box-shadow: 0px 1px 2px rgba(60, 64, 67, 0.3), 0px 1px 3px 1px rgba(60, 64, 67, 0.15);\n",
              "      fill: #174EA6;\n",
              "    }\n",
              "\n",
              "    [theme=dark] .colab-df-convert {\n",
              "      background-color: #3B4455;\n",
              "      fill: #D2E3FC;\n",
              "    }\n",
              "\n",
              "    [theme=dark] .colab-df-convert:hover {\n",
              "      background-color: #434B5C;\n",
              "      box-shadow: 0px 1px 3px 1px rgba(0, 0, 0, 0.15);\n",
              "      filter: drop-shadow(0px 1px 2px rgba(0, 0, 0, 0.3));\n",
              "      fill: #FFFFFF;\n",
              "    }\n",
              "  </style>\n",
              "\n",
              "      <script>\n",
              "        const buttonEl =\n",
              "          document.querySelector('#df-e61e0710-4b60-41b7-891e-acccc0fc175a button.colab-df-convert');\n",
              "        buttonEl.style.display =\n",
              "          google.colab.kernel.accessAllowed ? 'block' : 'none';\n",
              "\n",
              "        async function convertToInteractive(key) {\n",
              "          const element = document.querySelector('#df-e61e0710-4b60-41b7-891e-acccc0fc175a');\n",
              "          const dataTable =\n",
              "            await google.colab.kernel.invokeFunction('convertToInteractive',\n",
              "                                                     [key], {});\n",
              "          if (!dataTable) return;\n",
              "\n",
              "          const docLinkHtml = 'Like what you see? Visit the ' +\n",
              "            '<a target=\"_blank\" href=https://colab.research.google.com/notebooks/data_table.ipynb>data table notebook</a>'\n",
              "            + ' to learn more about interactive tables.';\n",
              "          element.innerHTML = '';\n",
              "          dataTable['output_type'] = 'display_data';\n",
              "          await google.colab.output.renderOutput(dataTable, element);\n",
              "          const docLink = document.createElement('div');\n",
              "          docLink.innerHTML = docLinkHtml;\n",
              "          element.appendChild(docLink);\n",
              "        }\n",
              "      </script>\n",
              "    </div>\n",
              "  </div>\n",
              "  "
            ]
          },
          "metadata": {},
          "execution_count": 10
        }
      ]
    },
    {
      "cell_type": "code",
      "source": [
        "csvData.describe()"
      ],
      "metadata": {
        "colab": {
          "base_uri": "https://localhost:8080/",
          "height": 300
        },
        "id": "_jaj9vGedl04",
        "outputId": "d71cbcf3-d6ed-40e4-f57e-7b428b471b7e"
      },
      "execution_count": 11,
      "outputs": [
        {
          "output_type": "execute_result",
          "data": {
            "text/plain": [
              "          height      weight  shoe_size\n",
              "count  80.000000   80.000000  80.000000\n",
              "mean   67.587500  144.787500  40.375000\n",
              "std     3.883408   33.025764   2.616283\n",
              "min    58.000000   88.000000  35.000000\n",
              "25%    65.000000  121.000000  38.000000\n",
              "50%    68.000000  144.000000  40.000000\n",
              "75%    71.000000  167.000000  43.000000\n",
              "max    74.000000  218.000000  46.000000"
            ],
            "text/html": [
              "\n",
              "  <div id=\"df-ab304b10-b55f-4019-968b-ac34eb569059\">\n",
              "    <div class=\"colab-df-container\">\n",
              "      <div>\n",
              "<style scoped>\n",
              "    .dataframe tbody tr th:only-of-type {\n",
              "        vertical-align: middle;\n",
              "    }\n",
              "\n",
              "    .dataframe tbody tr th {\n",
              "        vertical-align: top;\n",
              "    }\n",
              "\n",
              "    .dataframe thead th {\n",
              "        text-align: right;\n",
              "    }\n",
              "</style>\n",
              "<table border=\"1\" class=\"dataframe\">\n",
              "  <thead>\n",
              "    <tr style=\"text-align: right;\">\n",
              "      <th></th>\n",
              "      <th>height</th>\n",
              "      <th>weight</th>\n",
              "      <th>shoe_size</th>\n",
              "    </tr>\n",
              "  </thead>\n",
              "  <tbody>\n",
              "    <tr>\n",
              "      <th>count</th>\n",
              "      <td>80.000000</td>\n",
              "      <td>80.000000</td>\n",
              "      <td>80.000000</td>\n",
              "    </tr>\n",
              "    <tr>\n",
              "      <th>mean</th>\n",
              "      <td>67.587500</td>\n",
              "      <td>144.787500</td>\n",
              "      <td>40.375000</td>\n",
              "    </tr>\n",
              "    <tr>\n",
              "      <th>std</th>\n",
              "      <td>3.883408</td>\n",
              "      <td>33.025764</td>\n",
              "      <td>2.616283</td>\n",
              "    </tr>\n",
              "    <tr>\n",
              "      <th>min</th>\n",
              "      <td>58.000000</td>\n",
              "      <td>88.000000</td>\n",
              "      <td>35.000000</td>\n",
              "    </tr>\n",
              "    <tr>\n",
              "      <th>25%</th>\n",
              "      <td>65.000000</td>\n",
              "      <td>121.000000</td>\n",
              "      <td>38.000000</td>\n",
              "    </tr>\n",
              "    <tr>\n",
              "      <th>50%</th>\n",
              "      <td>68.000000</td>\n",
              "      <td>144.000000</td>\n",
              "      <td>40.000000</td>\n",
              "    </tr>\n",
              "    <tr>\n",
              "      <th>75%</th>\n",
              "      <td>71.000000</td>\n",
              "      <td>167.000000</td>\n",
              "      <td>43.000000</td>\n",
              "    </tr>\n",
              "    <tr>\n",
              "      <th>max</th>\n",
              "      <td>74.000000</td>\n",
              "      <td>218.000000</td>\n",
              "      <td>46.000000</td>\n",
              "    </tr>\n",
              "  </tbody>\n",
              "</table>\n",
              "</div>\n",
              "      <button class=\"colab-df-convert\" onclick=\"convertToInteractive('df-ab304b10-b55f-4019-968b-ac34eb569059')\"\n",
              "              title=\"Convert this dataframe to an interactive table.\"\n",
              "              style=\"display:none;\">\n",
              "        \n",
              "  <svg xmlns=\"http://www.w3.org/2000/svg\" height=\"24px\"viewBox=\"0 0 24 24\"\n",
              "       width=\"24px\">\n",
              "    <path d=\"M0 0h24v24H0V0z\" fill=\"none\"/>\n",
              "    <path d=\"M18.56 5.44l.94 2.06.94-2.06 2.06-.94-2.06-.94-.94-2.06-.94 2.06-2.06.94zm-11 1L8.5 8.5l.94-2.06 2.06-.94-2.06-.94L8.5 2.5l-.94 2.06-2.06.94zm10 10l.94 2.06.94-2.06 2.06-.94-2.06-.94-.94-2.06-.94 2.06-2.06.94z\"/><path d=\"M17.41 7.96l-1.37-1.37c-.4-.4-.92-.59-1.43-.59-.52 0-1.04.2-1.43.59L10.3 9.45l-7.72 7.72c-.78.78-.78 2.05 0 2.83L4 21.41c.39.39.9.59 1.41.59.51 0 1.02-.2 1.41-.59l7.78-7.78 2.81-2.81c.8-.78.8-2.07 0-2.86zM5.41 20L4 18.59l7.72-7.72 1.47 1.35L5.41 20z\"/>\n",
              "  </svg>\n",
              "      </button>\n",
              "      \n",
              "  <style>\n",
              "    .colab-df-container {\n",
              "      display:flex;\n",
              "      flex-wrap:wrap;\n",
              "      gap: 12px;\n",
              "    }\n",
              "\n",
              "    .colab-df-convert {\n",
              "      background-color: #E8F0FE;\n",
              "      border: none;\n",
              "      border-radius: 50%;\n",
              "      cursor: pointer;\n",
              "      display: none;\n",
              "      fill: #1967D2;\n",
              "      height: 32px;\n",
              "      padding: 0 0 0 0;\n",
              "      width: 32px;\n",
              "    }\n",
              "\n",
              "    .colab-df-convert:hover {\n",
              "      background-color: #E2EBFA;\n",
              "      box-shadow: 0px 1px 2px rgba(60, 64, 67, 0.3), 0px 1px 3px 1px rgba(60, 64, 67, 0.15);\n",
              "      fill: #174EA6;\n",
              "    }\n",
              "\n",
              "    [theme=dark] .colab-df-convert {\n",
              "      background-color: #3B4455;\n",
              "      fill: #D2E3FC;\n",
              "    }\n",
              "\n",
              "    [theme=dark] .colab-df-convert:hover {\n",
              "      background-color: #434B5C;\n",
              "      box-shadow: 0px 1px 3px 1px rgba(0, 0, 0, 0.15);\n",
              "      filter: drop-shadow(0px 1px 2px rgba(0, 0, 0, 0.3));\n",
              "      fill: #FFFFFF;\n",
              "    }\n",
              "  </style>\n",
              "\n",
              "      <script>\n",
              "        const buttonEl =\n",
              "          document.querySelector('#df-ab304b10-b55f-4019-968b-ac34eb569059 button.colab-df-convert');\n",
              "        buttonEl.style.display =\n",
              "          google.colab.kernel.accessAllowed ? 'block' : 'none';\n",
              "\n",
              "        async function convertToInteractive(key) {\n",
              "          const element = document.querySelector('#df-ab304b10-b55f-4019-968b-ac34eb569059');\n",
              "          const dataTable =\n",
              "            await google.colab.kernel.invokeFunction('convertToInteractive',\n",
              "                                                     [key], {});\n",
              "          if (!dataTable) return;\n",
              "\n",
              "          const docLinkHtml = 'Like what you see? Visit the ' +\n",
              "            '<a target=\"_blank\" href=https://colab.research.google.com/notebooks/data_table.ipynb>data table notebook</a>'\n",
              "            + ' to learn more about interactive tables.';\n",
              "          element.innerHTML = '';\n",
              "          dataTable['output_type'] = 'display_data';\n",
              "          await google.colab.output.renderOutput(dataTable, element);\n",
              "          const docLink = document.createElement('div');\n",
              "          docLink.innerHTML = docLinkHtml;\n",
              "          element.appendChild(docLink);\n",
              "        }\n",
              "      </script>\n",
              "    </div>\n",
              "  </div>\n",
              "  "
            ]
          },
          "metadata": {},
          "execution_count": 11
        }
      ]
    },
    {
      "cell_type": "code",
      "source": [
        "csvData.info()"
      ],
      "metadata": {
        "colab": {
          "base_uri": "https://localhost:8080/"
        },
        "id": "yoSa3EHTdteY",
        "outputId": "52d53859-4b63-4913-88dc-afbf218fe5ae"
      },
      "execution_count": 12,
      "outputs": [
        {
          "output_type": "stream",
          "name": "stdout",
          "text": [
            "<class 'pandas.core.frame.DataFrame'>\n",
            "RangeIndex: 80 entries, 0 to 79\n",
            "Data columns (total 8 columns):\n",
            " #   Column       Non-Null Count  Dtype \n",
            "---  ------       --------------  ----- \n",
            " 0   height       80 non-null     int64 \n",
            " 1   weight       80 non-null     int64 \n",
            " 2   beard        80 non-null     object\n",
            " 3   hair_length  80 non-null     object\n",
            " 4   shoe_size    80 non-null     int64 \n",
            " 5   scarf        80 non-null     object\n",
            " 6   eye_color    80 non-null     object\n",
            " 7   gender       80 non-null     object\n",
            "dtypes: int64(3), object(5)\n",
            "memory usage: 5.1+ KB\n"
          ]
        }
      ]
    },
    {
      "cell_type": "code",
      "source": [
        "#converting object into numeric\n",
        "labels = preprocessing.LabelEncoder()\n",
        "csvData['beard'] = labels.fit_transform(csvData['beard'])\n",
        "csvData['hair_length'] = labels.fit_transform(csvData['hair_length'])\n",
        "csvData['scarf'] = labels.fit_transform(csvData['scarf'])\n",
        "csvData['eye_color'] = labels.fit_transform(csvData['eye_color'])\n",
        "csvData['gender'] = labels.fit_transform(csvData['gender'])"
      ],
      "metadata": {
        "id": "elR7YDmKd7cW"
      },
      "execution_count": 13,
      "outputs": []
    },
    {
      "cell_type": "code",
      "source": [
        "csvData.head(10)"
      ],
      "metadata": {
        "colab": {
          "base_uri": "https://localhost:8080/",
          "height": 363
        },
        "id": "QwrgsFmGedEu",
        "outputId": "23b3af1d-319f-4483-fe71-498b03aab6dc"
      },
      "execution_count": 14,
      "outputs": [
        {
          "output_type": "execute_result",
          "data": {
            "text/plain": [
              "   height  weight  beard  hair_length  shoe_size  scarf  eye_color  gender\n",
              "0      71     176      1            3         44      0          0       1\n",
              "1      68     165      0            0         41      0          0       1\n",
              "2      62     132      0            2         37      1          1       0\n",
              "3      65     138      0            1         38      0          3       0\n",
              "4      70     197      1            2         43      0          3       1\n",
              "5      71     190      1            3         43      0          0       1\n",
              "6      74     201      1            0         44      0          2       1\n",
              "7      74     182      0            3         46      0          2       1\n",
              "8      63     127      0            3         35      0          4       0\n",
              "9      65     139      0            2         37      1          3       0"
            ],
            "text/html": [
              "\n",
              "  <div id=\"df-a6f4bd63-76b0-4485-b41a-5aa54343746c\">\n",
              "    <div class=\"colab-df-container\">\n",
              "      <div>\n",
              "<style scoped>\n",
              "    .dataframe tbody tr th:only-of-type {\n",
              "        vertical-align: middle;\n",
              "    }\n",
              "\n",
              "    .dataframe tbody tr th {\n",
              "        vertical-align: top;\n",
              "    }\n",
              "\n",
              "    .dataframe thead th {\n",
              "        text-align: right;\n",
              "    }\n",
              "</style>\n",
              "<table border=\"1\" class=\"dataframe\">\n",
              "  <thead>\n",
              "    <tr style=\"text-align: right;\">\n",
              "      <th></th>\n",
              "      <th>height</th>\n",
              "      <th>weight</th>\n",
              "      <th>beard</th>\n",
              "      <th>hair_length</th>\n",
              "      <th>shoe_size</th>\n",
              "      <th>scarf</th>\n",
              "      <th>eye_color</th>\n",
              "      <th>gender</th>\n",
              "    </tr>\n",
              "  </thead>\n",
              "  <tbody>\n",
              "    <tr>\n",
              "      <th>0</th>\n",
              "      <td>71</td>\n",
              "      <td>176</td>\n",
              "      <td>1</td>\n",
              "      <td>3</td>\n",
              "      <td>44</td>\n",
              "      <td>0</td>\n",
              "      <td>0</td>\n",
              "      <td>1</td>\n",
              "    </tr>\n",
              "    <tr>\n",
              "      <th>1</th>\n",
              "      <td>68</td>\n",
              "      <td>165</td>\n",
              "      <td>0</td>\n",
              "      <td>0</td>\n",
              "      <td>41</td>\n",
              "      <td>0</td>\n",
              "      <td>0</td>\n",
              "      <td>1</td>\n",
              "    </tr>\n",
              "    <tr>\n",
              "      <th>2</th>\n",
              "      <td>62</td>\n",
              "      <td>132</td>\n",
              "      <td>0</td>\n",
              "      <td>2</td>\n",
              "      <td>37</td>\n",
              "      <td>1</td>\n",
              "      <td>1</td>\n",
              "      <td>0</td>\n",
              "    </tr>\n",
              "    <tr>\n",
              "      <th>3</th>\n",
              "      <td>65</td>\n",
              "      <td>138</td>\n",
              "      <td>0</td>\n",
              "      <td>1</td>\n",
              "      <td>38</td>\n",
              "      <td>0</td>\n",
              "      <td>3</td>\n",
              "      <td>0</td>\n",
              "    </tr>\n",
              "    <tr>\n",
              "      <th>4</th>\n",
              "      <td>70</td>\n",
              "      <td>197</td>\n",
              "      <td>1</td>\n",
              "      <td>2</td>\n",
              "      <td>43</td>\n",
              "      <td>0</td>\n",
              "      <td>3</td>\n",
              "      <td>1</td>\n",
              "    </tr>\n",
              "    <tr>\n",
              "      <th>5</th>\n",
              "      <td>71</td>\n",
              "      <td>190</td>\n",
              "      <td>1</td>\n",
              "      <td>3</td>\n",
              "      <td>43</td>\n",
              "      <td>0</td>\n",
              "      <td>0</td>\n",
              "      <td>1</td>\n",
              "    </tr>\n",
              "    <tr>\n",
              "      <th>6</th>\n",
              "      <td>74</td>\n",
              "      <td>201</td>\n",
              "      <td>1</td>\n",
              "      <td>0</td>\n",
              "      <td>44</td>\n",
              "      <td>0</td>\n",
              "      <td>2</td>\n",
              "      <td>1</td>\n",
              "    </tr>\n",
              "    <tr>\n",
              "      <th>7</th>\n",
              "      <td>74</td>\n",
              "      <td>182</td>\n",
              "      <td>0</td>\n",
              "      <td>3</td>\n",
              "      <td>46</td>\n",
              "      <td>0</td>\n",
              "      <td>2</td>\n",
              "      <td>1</td>\n",
              "    </tr>\n",
              "    <tr>\n",
              "      <th>8</th>\n",
              "      <td>63</td>\n",
              "      <td>127</td>\n",
              "      <td>0</td>\n",
              "      <td>3</td>\n",
              "      <td>35</td>\n",
              "      <td>0</td>\n",
              "      <td>4</td>\n",
              "      <td>0</td>\n",
              "    </tr>\n",
              "    <tr>\n",
              "      <th>9</th>\n",
              "      <td>65</td>\n",
              "      <td>139</td>\n",
              "      <td>0</td>\n",
              "      <td>2</td>\n",
              "      <td>37</td>\n",
              "      <td>1</td>\n",
              "      <td>3</td>\n",
              "      <td>0</td>\n",
              "    </tr>\n",
              "  </tbody>\n",
              "</table>\n",
              "</div>\n",
              "      <button class=\"colab-df-convert\" onclick=\"convertToInteractive('df-a6f4bd63-76b0-4485-b41a-5aa54343746c')\"\n",
              "              title=\"Convert this dataframe to an interactive table.\"\n",
              "              style=\"display:none;\">\n",
              "        \n",
              "  <svg xmlns=\"http://www.w3.org/2000/svg\" height=\"24px\"viewBox=\"0 0 24 24\"\n",
              "       width=\"24px\">\n",
              "    <path d=\"M0 0h24v24H0V0z\" fill=\"none\"/>\n",
              "    <path d=\"M18.56 5.44l.94 2.06.94-2.06 2.06-.94-2.06-.94-.94-2.06-.94 2.06-2.06.94zm-11 1L8.5 8.5l.94-2.06 2.06-.94-2.06-.94L8.5 2.5l-.94 2.06-2.06.94zm10 10l.94 2.06.94-2.06 2.06-.94-2.06-.94-.94-2.06-.94 2.06-2.06.94z\"/><path d=\"M17.41 7.96l-1.37-1.37c-.4-.4-.92-.59-1.43-.59-.52 0-1.04.2-1.43.59L10.3 9.45l-7.72 7.72c-.78.78-.78 2.05 0 2.83L4 21.41c.39.39.9.59 1.41.59.51 0 1.02-.2 1.41-.59l7.78-7.78 2.81-2.81c.8-.78.8-2.07 0-2.86zM5.41 20L4 18.59l7.72-7.72 1.47 1.35L5.41 20z\"/>\n",
              "  </svg>\n",
              "      </button>\n",
              "      \n",
              "  <style>\n",
              "    .colab-df-container {\n",
              "      display:flex;\n",
              "      flex-wrap:wrap;\n",
              "      gap: 12px;\n",
              "    }\n",
              "\n",
              "    .colab-df-convert {\n",
              "      background-color: #E8F0FE;\n",
              "      border: none;\n",
              "      border-radius: 50%;\n",
              "      cursor: pointer;\n",
              "      display: none;\n",
              "      fill: #1967D2;\n",
              "      height: 32px;\n",
              "      padding: 0 0 0 0;\n",
              "      width: 32px;\n",
              "    }\n",
              "\n",
              "    .colab-df-convert:hover {\n",
              "      background-color: #E2EBFA;\n",
              "      box-shadow: 0px 1px 2px rgba(60, 64, 67, 0.3), 0px 1px 3px 1px rgba(60, 64, 67, 0.15);\n",
              "      fill: #174EA6;\n",
              "    }\n",
              "\n",
              "    [theme=dark] .colab-df-convert {\n",
              "      background-color: #3B4455;\n",
              "      fill: #D2E3FC;\n",
              "    }\n",
              "\n",
              "    [theme=dark] .colab-df-convert:hover {\n",
              "      background-color: #434B5C;\n",
              "      box-shadow: 0px 1px 3px 1px rgba(0, 0, 0, 0.15);\n",
              "      filter: drop-shadow(0px 1px 2px rgba(0, 0, 0, 0.3));\n",
              "      fill: #FFFFFF;\n",
              "    }\n",
              "  </style>\n",
              "\n",
              "      <script>\n",
              "        const buttonEl =\n",
              "          document.querySelector('#df-a6f4bd63-76b0-4485-b41a-5aa54343746c button.colab-df-convert');\n",
              "        buttonEl.style.display =\n",
              "          google.colab.kernel.accessAllowed ? 'block' : 'none';\n",
              "\n",
              "        async function convertToInteractive(key) {\n",
              "          const element = document.querySelector('#df-a6f4bd63-76b0-4485-b41a-5aa54343746c');\n",
              "          const dataTable =\n",
              "            await google.colab.kernel.invokeFunction('convertToInteractive',\n",
              "                                                     [key], {});\n",
              "          if (!dataTable) return;\n",
              "\n",
              "          const docLinkHtml = 'Like what you see? Visit the ' +\n",
              "            '<a target=\"_blank\" href=https://colab.research.google.com/notebooks/data_table.ipynb>data table notebook</a>'\n",
              "            + ' to learn more about interactive tables.';\n",
              "          element.innerHTML = '';\n",
              "          dataTable['output_type'] = 'display_data';\n",
              "          await google.colab.output.renderOutput(dataTable, element);\n",
              "          const docLink = document.createElement('div');\n",
              "          docLink.innerHTML = docLinkHtml;\n",
              "          element.appendChild(docLink);\n",
              "        }\n",
              "      </script>\n",
              "    </div>\n",
              "  </div>\n",
              "  "
            ]
          },
          "metadata": {},
          "execution_count": 14
        }
      ]
    },
    {
      "cell_type": "code",
      "source": [
        "#Ratio of classes\n",
        "gender = ['Male', 'Female']\n",
        "female = len(csvData[csvData['gender']== 0])\n",
        "male = len(csvData[csvData['gender']== 1])\n",
        "count = [male, female]\n",
        "plt.pie(count, labels = gender, autopct='%1.1f%%')\n",
        "plt.show()"
      ],
      "metadata": {
        "colab": {
          "base_uri": "https://localhost:8080/",
          "height": 248
        },
        "id": "55o95GqlekGI",
        "outputId": "6689f13e-884d-4a2d-9f2a-f56fd634039f"
      },
      "execution_count": 15,
      "outputs": [
        {
          "output_type": "display_data",
          "data": {
            "text/plain": [
              "<Figure size 432x288 with 1 Axes>"
            ],
            "image/png": "[encoded data removed]"
          },
          "metadata": {}
        }
      ]
    },
    {
      "cell_type": "code",
      "source": [
        "gender = ['Male', 'Female']\n",
        "female = len(csvData[csvData['gender']== 0])\n",
        "male = len(csvData[csvData['gender']== 1])\n",
        "count = [male, female]\n",
        "plt.pie(count, labels = gender, autopct='%1.1f%%')\n",
        "plt.show()"
      ],
      "metadata": {
        "colab": {
          "base_uri": "https://localhost:8080/",
          "height": 248
        },
        "id": "QWq9sbDIe9OD",
        "outputId": "baca65e7-85f8-41a6-f270-a472dbda00d7"
      },
      "execution_count": 16,
      "outputs": [
        {
          "output_type": "display_data",
          "data": {
            "text/plain": [
              "<Figure size 432x288 with 1 Axes>"
            ],
            "image/png": "[encoded data removed]"
          },
          "metadata": {}
        }
      ]
    },
    {
      "cell_type": "code",
      "source": [
        "fig = plt.figure(figsize=(5, 5))\n",
        "sns.countplot(x='gender', data= csvData)"
      ],
      "metadata": {
        "colab": {
          "base_uri": "https://localhost:8080/",
          "height": 351
        },
        "id": "Qj_JnAVCfG7u",
        "outputId": "3523c558-a17f-4591-f3b9-af6914272be3"
      },
      "execution_count": 17,
      "outputs": [
        {
          "output_type": "execute_result",
          "data": {
            "text/plain": [
              "<matplotlib.axes._subplots.AxesSubplot at 0x7f79de7e0820>"
            ]
          },
          "metadata": {},
          "execution_count": 17
        },
        {
          "output_type": "display_data",
          "data": {
            "text/plain": [
              "<Figure size 360x360 with 1 Axes>"
            ],
            "image/png": "[encoded data removed]"
          },
          "metadata": {
            "needs_background": "light"
          }
        }
      ]
    },
    {
      "cell_type": "code",
      "source": [
        "# Train Test Split\n",
        "csvData.columns.values\n",
        "\n"
      ],
      "metadata": {
        "colab": {
          "base_uri": "https://localhost:8080/"
        },
        "id": "T7eDG_PMg_ON",
        "outputId": "100647bd-a6c7-4b51-b298-00d6dca13137"
      },
      "execution_count": 22,
      "outputs": [
        {
          "output_type": "execute_result",
          "data": {
            "text/plain": [
              "array(['height', 'weight', 'beard', 'hair_length', 'shoe_size', 'scarf',\n",
              "       'eye_color', 'gender'], dtype=object)"
            ]
          },
          "metadata": {},
          "execution_count": 22
        }
      ]
    },
    {
      "cell_type": "code",
      "source": [
        "#Separating independent features from dependent variable.\n",
        "X = csvData.drop(['gender'], axis = 1)\n",
        "y = csvData['gender']"
      ],
      "metadata": {
        "id": "NYDA33evh5Ec"
      },
      "execution_count": 23,
      "outputs": []
    },
    {
      "cell_type": "code",
      "source": [
        "features = X\n",
        "X"
      ],
      "metadata": {
        "colab": {
          "base_uri": "https://localhost:8080/",
          "height": 424
        },
        "id": "M6T8hGXLiAHJ",
        "outputId": "cf01ed5b-a384-41eb-b29d-5f2cb74c0abf"
      },
      "execution_count": 24,
      "outputs": [
        {
          "output_type": "execute_result",
          "data": {
            "text/plain": [
              "    height  weight  beard  hair_length  shoe_size  scarf  eye_color\n",
              "0       71     176      1            3         44      0          0\n",
              "1       68     165      0            0         41      0          0\n",
              "2       62     132      0            2         37      1          1\n",
              "3       65     138      0            1         38      0          3\n",
              "4       70     197      1            2         43      0          3\n",
              "..     ...     ...    ...          ...        ...    ...        ...\n",
              "75      65      99      0            3         39      1          4\n",
              "76      61      98      0            3         37      0          2\n",
              "77      67     119      1            3         40      0          0\n",
              "78      70     190      1            2         43      0          3\n",
              "79      62     142      1            1         37      0          1\n",
              "\n",
              "[80 rows x 7 columns]"
            ],
            "text/html": [
              "\n",
              "  <div id=\"df-b268ce14-0ce7-49b0-840b-d70f56372acf\">\n",
              "    <div class=\"colab-df-container\">\n",
              "      <div>\n",
              "<style scoped>\n",
              "    .dataframe tbody tr th:only-of-type {\n",
              "        vertical-align: middle;\n",
              "    }\n",
              "\n",
              "    .dataframe tbody tr th {\n",
              "        vertical-align: top;\n",
              "    }\n",
              "\n",
              "    .dataframe thead th {\n",
              "        text-align: right;\n",
              "    }\n",
              "</style>\n",
              "<table border=\"1\" class=\"dataframe\">\n",
              "  <thead>\n",
              "    <tr style=\"text-align: right;\">\n",
              "      <th></th>\n",
              "      <th>height</th>\n",
              "      <th>weight</th>\n",
              "      <th>beard</th>\n",
              "      <th>hair_length</th>\n",
              "      <th>shoe_size</th>\n",
              "      <th>scarf</th>\n",
              "      <th>eye_color</th>\n",
              "    </tr>\n",
              "  </thead>\n",
              "  <tbody>\n",
              "    <tr>\n",
              "      <th>0</th>\n",
              "      <td>71</td>\n",
              "      <td>176</td>\n",
              "      <td>1</td>\n",
              "      <td>3</td>\n",
              "      <td>44</td>\n",
              "      <td>0</td>\n",
              "      <td>0</td>\n",
              "    </tr>\n",
              "    <tr>\n",
              "      <th>1</th>\n",
              "      <td>68</td>\n",
              "      <td>165</td>\n",
              "      <td>0</td>\n",
              "      <td>0</td>\n",
              "      <td>41</td>\n",
              "      <td>0</td>\n",
              "      <td>0</td>\n",
              "    </tr>\n",
              "    <tr>\n",
              "      <th>2</th>\n",
              "      <td>62</td>\n",
              "      <td>132</td>\n",
              "      <td>0</td>\n",
              "      <td>2</td>\n",
              "      <td>37</td>\n",
              "      <td>1</td>\n",
              "      <td>1</td>\n",
              "    </tr>\n",
              "    <tr>\n",
              "      <th>3</th>\n",
              "      <td>65</td>\n",
              "      <td>138</td>\n",
              "      <td>0</td>\n",
              "      <td>1</td>\n",
              "      <td>38</td>\n",
              "      <td>0</td>\n",
              "      <td>3</td>\n",
              "    </tr>\n",
              "    <tr>\n",
              "      <th>4</th>\n",
              "      <td>70</td>\n",
              "      <td>197</td>\n",
              "      <td>1</td>\n",
              "      <td>2</td>\n",
              "      <td>43</td>\n",
              "      <td>0</td>\n",
              "      <td>3</td>\n",
              "    </tr>\n",
              "    <tr>\n",
              "      <th>...</th>\n",
              "      <td>...</td>\n",
              "      <td>...</td>\n",
              "      <td>...</td>\n",
              "      <td>...</td>\n",
              "      <td>...</td>\n",
              "      <td>...</td>\n",
              "      <td>...</td>\n",
              "    </tr>\n",
              "    <tr>\n",
              "      <th>75</th>\n",
              "      <td>65</td>\n",
              "      <td>99</td>\n",
              "      <td>0</td>\n",
              "      <td>3</td>\n",
              "      <td>39</td>\n",
              "      <td>1</td>\n",
              "      <td>4</td>\n",
              "    </tr>\n",
              "    <tr>\n",
              "      <th>76</th>\n",
              "      <td>61</td>\n",
              "      <td>98</td>\n",
              "      <td>0</td>\n",
              "      <td>3</td>\n",
              "      <td>37</td>\n",
              "      <td>0</td>\n",
              "      <td>2</td>\n",
              "    </tr>\n",
              "    <tr>\n",
              "      <th>77</th>\n",
              "      <td>67</td>\n",
              "      <td>119</td>\n",
              "      <td>1</td>\n",
              "      <td>3</td>\n",
              "      <td>40</td>\n",
              "      <td>0</td>\n",
              "      <td>0</td>\n",
              "    </tr>\n",
              "    <tr>\n",
              "      <th>78</th>\n",
              "      <td>70</td>\n",
              "      <td>190</td>\n",
              "      <td>1</td>\n",
              "      <td>2</td>\n",
              "      <td>43</td>\n",
              "      <td>0</td>\n",
              "      <td>3</td>\n",
              "    </tr>\n",
              "    <tr>\n",
              "      <th>79</th>\n",
              "      <td>62</td>\n",
              "      <td>142</td>\n",
              "      <td>1</td>\n",
              "      <td>1</td>\n",
              "      <td>37</td>\n",
              "      <td>0</td>\n",
              "      <td>1</td>\n",
              "    </tr>\n",
              "  </tbody>\n",
              "</table>\n",
              "<p>80 rows × 7 columns</p>\n",
              "</div>\n",
              "      <button class=\"colab-df-convert\" onclick=\"convertToInteractive('df-b268ce14-0ce7-49b0-840b-d70f56372acf')\"\n",
              "              title=\"Convert this dataframe to an interactive table.\"\n",
              "              style=\"display:none;\">\n",
              "        \n",
              "  <svg xmlns=\"http://www.w3.org/2000/svg\" height=\"24px\"viewBox=\"0 0 24 24\"\n",
              "       width=\"24px\">\n",
              "    <path d=\"M0 0h24v24H0V0z\" fill=\"none\"/>\n",
              "    <path d=\"M18.56 5.44l.94 2.06.94-2.06 2.06-.94-2.06-.94-.94-2.06-.94 2.06-2.06.94zm-11 1L8.5 8.5l.94-2.06 2.06-.94-2.06-.94L8.5 2.5l-.94 2.06-2.06.94zm10 10l.94 2.06.94-2.06 2.06-.94-2.06-.94-.94-2.06-.94 2.06-2.06.94z\"/><path d=\"M17.41 7.96l-1.37-1.37c-.4-.4-.92-.59-1.43-.59-.52 0-1.04.2-1.43.59L10.3 9.45l-7.72 7.72c-.78.78-.78 2.05 0 2.83L4 21.41c.39.39.9.59 1.41.59.51 0 1.02-.2 1.41-.59l7.78-7.78 2.81-2.81c.8-.78.8-2.07 0-2.86zM5.41 20L4 18.59l7.72-7.72 1.47 1.35L5.41 20z\"/>\n",
              "  </svg>\n",
              "      </button>\n",
              "      \n",
              "  <style>\n",
              "    .colab-df-container {\n",
              "      display:flex;\n",
              "      flex-wrap:wrap;\n",
              "      gap: 12px;\n",
              "    }\n",
              "\n",
              "    .colab-df-convert {\n",
              "      background-color: #E8F0FE;\n",
              "      border: none;\n",
              "      border-radius: 50%;\n",
              "      cursor: pointer;\n",
              "      display: none;\n",
              "      fill: #1967D2;\n",
              "      height: 32px;\n",
              "      padding: 0 0 0 0;\n",
              "      width: 32px;\n",
              "    }\n",
              "\n",
              "    .colab-df-convert:hover {\n",
              "      background-color: #E2EBFA;\n",
              "      box-shadow: 0px 1px 2px rgba(60, 64, 67, 0.3), 0px 1px 3px 1px rgba(60, 64, 67, 0.15);\n",
              "      fill: #174EA6;\n",
              "    }\n",
              "\n",
              "    [theme=dark] .colab-df-convert {\n",
              "      background-color: #3B4455;\n",
              "      fill: #D2E3FC;\n",
              "    }\n",
              "\n",
              "    [theme=dark] .colab-df-convert:hover {\n",
              "      background-color: #434B5C;\n",
              "      box-shadow: 0px 1px 3px 1px rgba(0, 0, 0, 0.15);\n",
              "      filter: drop-shadow(0px 1px 2px rgba(0, 0, 0, 0.3));\n",
              "      fill: #FFFFFF;\n",
              "    }\n",
              "  </style>\n",
              "\n",
              "      <script>\n",
              "        const buttonEl =\n",
              "          document.querySelector('#df-b268ce14-0ce7-49b0-840b-d70f56372acf button.colab-df-convert');\n",
              "        buttonEl.style.display =\n",
              "          google.colab.kernel.accessAllowed ? 'block' : 'none';\n",
              "\n",
              "        async function convertToInteractive(key) {\n",
              "          const element = document.querySelector('#df-b268ce14-0ce7-49b0-840b-d70f56372acf');\n",
              "          const dataTable =\n",
              "            await google.colab.kernel.invokeFunction('convertToInteractive',\n",
              "                                                     [key], {});\n",
              "          if (!dataTable) return;\n",
              "\n",
              "          const docLinkHtml = 'Like what you see? Visit the ' +\n",
              "            '<a target=\"_blank\" href=https://colab.research.google.com/notebooks/data_table.ipynb>data table notebook</a>'\n",
              "            + ' to learn more about interactive tables.';\n",
              "          element.innerHTML = '';\n",
              "          dataTable['output_type'] = 'display_data';\n",
              "          await google.colab.output.renderOutput(dataTable, element);\n",
              "          const docLink = document.createElement('div');\n",
              "          docLink.innerHTML = docLinkHtml;\n",
              "          element.appendChild(docLink);\n",
              "        }\n",
              "      </script>\n",
              "    </div>\n",
              "  </div>\n",
              "  "
            ]
          },
          "metadata": {},
          "execution_count": 24
        }
      ]
    },
    {
      "cell_type": "code",
      "source": [
        "y"
      ],
      "metadata": {
        "colab": {
          "base_uri": "https://localhost:8080/"
        },
        "id": "vi7BTYadiE_K",
        "outputId": "ec174db4-a6fb-45b5-a094-17e23b64bce5"
      },
      "execution_count": 25,
      "outputs": [
        {
          "output_type": "execute_result",
          "data": {
            "text/plain": [
              "0     1\n",
              "1     1\n",
              "2     0\n",
              "3     0\n",
              "4     1\n",
              "     ..\n",
              "75    0\n",
              "76    0\n",
              "77    1\n",
              "78    1\n",
              "79    0\n",
              "Name: gender, Length: 80, dtype: int64"
            ]
          },
          "metadata": {},
          "execution_count": 25
        }
      ]
    },
    {
      "cell_type": "code",
      "source": [
        "#cross validation\n",
        "X_train, X_test, y_train, y_test = train_test_split(X, y, stratify=y, test_size=0.33, random_state = 2)"
      ],
      "metadata": {
        "id": "uK4rQuNHiKRB"
      },
      "execution_count": 26,
      "outputs": []
    },
    {
      "cell_type": "code",
      "source": [
        "X_train.shape"
      ],
      "metadata": {
        "colab": {
          "base_uri": "https://localhost:8080/"
        },
        "id": "aJH-aZ9biS5h",
        "outputId": "be308690-ea28-40b6-b9a7-4d6231b6194c"
      },
      "execution_count": 27,
      "outputs": [
        {
          "output_type": "execute_result",
          "data": {
            "text/plain": [
              "(53, 7)"
            ]
          },
          "metadata": {},
          "execution_count": 27
        }
      ]
    },
    {
      "cell_type": "code",
      "source": [
        "X_test.shape"
      ],
      "metadata": {
        "colab": {
          "base_uri": "https://localhost:8080/"
        },
        "id": "E0zjOFcIiXDT",
        "outputId": "902b8539-b04b-4141-c765-9d13de4ee6f0"
      },
      "execution_count": 28,
      "outputs": [
        {
          "output_type": "execute_result",
          "data": {
            "text/plain": [
              "(27, 7)"
            ]
          },
          "metadata": {},
          "execution_count": 28
        }
      ]
    },
    {
      "cell_type": "code",
      "source": [
        "#Random Forest\n",
        "random_forest = RandomForestClassifier(n_estimators=10)\n",
        "\n",
        "random_forest.fit(X_train, y_train)\n",
        "\n",
        "y_prediction = random_forest.predict(X_test)\n",
        "\n",
        "acc_randomforrest = round(accuracy_score(y_test, y_prediction) * 100, 2)\n",
        "print(\"The accuracy of Random Forrest Classifier : \",acc_randomforrest , \"%\")\n",
        "\n",
        "con_matrix = metrics.confusion_matrix(y_test, y_prediction)\n",
        "print('Confusion matrix:')\n",
        "print(con_matrix)\n",
        "\n",
        "class_report = metrics.classification_report(y_test, y_prediction)\n",
        "print('Classification Report:')\n",
        "print(class_report)"
      ],
      "metadata": {
        "colab": {
          "base_uri": "https://localhost:8080/"
        },
        "id": "SNm6cLWRiaMi",
        "outputId": "f3552ac2-6e8b-40e9-aeb2-0ba53a78a4a4"
      },
      "execution_count": 29,
      "outputs": [
        {
          "output_type": "stream",
          "name": "stdout",
          "text": [
            "The accuracy of Random Forrest Classifier :  100.0 %\n",
            "Confusion matrix:\n",
            "[[11  0]\n",
            " [ 0 16]]\n",
            "Classification Report:\n",
            "              precision    recall  f1-score   support\n",
            "\n",
            "           0       1.00      1.00      1.00        11\n",
            "           1       1.00      1.00      1.00        16\n",
            "\n",
            "    accuracy                           1.00        27\n",
            "   macro avg       1.00      1.00      1.00        27\n",
            "weighted avg       1.00      1.00      1.00        27\n",
            "\n"
          ]
        }
      ]
    },
    {
      "cell_type": "code",
      "source": [
        "con_matrix = confusion_matrix(y_test, y_prediction)\n",
        "\n",
        "cm_display = ConfusionMatrixDisplay(confusion_matrix = con_matrix,\n",
        "                                    display_labels = ['Male', 'Female'])\n",
        "cm_display.plot()\n",
        "plt.show()"
      ],
      "metadata": {
        "colab": {
          "base_uri": "https://localhost:8080/",
          "height": 283
        },
        "id": "MFgdL_iwiqUg",
        "outputId": "8f1e3fa4-5943-4ad3-ac9c-abfd145f5b9a"
      },
      "execution_count": 30,
      "outputs": [
        {
          "output_type": "display_data",
          "data": {
            "text/plain": [
              "<Figure size 432x288 with 2 Axes>"
            ],
            "image/png": "[encoded data removed]"
          },
          "metadata": {
            "needs_background": "light"
          }
        }
      ]
    },
    {
      "cell_type": "code",
      "source": [
        "# Support Vector Machines, Linear SVC Classifier\n",
        "\n",
        "SVM = svm.SVC(kernel='linear')\n",
        "\n",
        "SVM.fit(X_train, y_train)\n",
        "\n",
        "y_prediction = SVM.predict(X_test)\n",
        "\n",
        "acc_SVM = round(accuracy_score(y_test, y_prediction) * 100, 2)\n",
        "print(\"The accuracy of LinearSVC Classifier : \",acc_SVM , \"%\")\n",
        "\n",
        "con_matrix = metrics.confusion_matrix(y_test, y_prediction)\n",
        "print('Confusion matrix:')\n",
        "print(con_matrix)\n",
        "\n",
        "class_report = metrics.classification_report(y_test, y_prediction)\n",
        "print('Classification Report:')\n",
        "print(class_report)"
      ],
      "metadata": {
        "colab": {
          "base_uri": "https://localhost:8080/"
        },
        "id": "eWX4SeKYixjt",
        "outputId": "9d8034b1-9069-4f01-b70d-96c52f15b1f3"
      },
      "execution_count": 31,
      "outputs": [
        {
          "output_type": "stream",
          "name": "stdout",
          "text": [
            "The accuracy of LinearSVC Classifier :  100.0 %\n",
            "Confusion matrix:\n",
            "[[11  0]\n",
            " [ 0 16]]\n",
            "Classification Report:\n",
            "              precision    recall  f1-score   support\n",
            "\n",
            "           0       1.00      1.00      1.00        11\n",
            "           1       1.00      1.00      1.00        16\n",
            "\n",
            "    accuracy                           1.00        27\n",
            "   macro avg       1.00      1.00      1.00        27\n",
            "weighted avg       1.00      1.00      1.00        27\n",
            "\n"
          ]
        }
      ]
    },
    {
      "cell_type": "code",
      "source": [
        "con_matrix = confusion_matrix(y_test, y_prediction)\n",
        "\n",
        "cm_display = ConfusionMatrixDisplay(confusion_matrix = con_matrix,\n",
        "                                    display_labels = ['Male', 'Female'])\n",
        "cm_display.plot()\n",
        "plt.show()"
      ],
      "metadata": {
        "colab": {
          "base_uri": "https://localhost:8080/",
          "height": 283
        },
        "id": "ufamt74ui5Md",
        "outputId": "5da3535b-49cc-499e-888c-0622ab25820d"
      },
      "execution_count": 32,
      "outputs": [
        {
          "output_type": "display_data",
          "data": {
            "text/plain": [
              "<Figure size 432x288 with 2 Axes>"
            ],
            "image/png": "[encoded data removed]"
          },
          "metadata": {
            "needs_background": "light"
          }
        }
      ]
    },
    {
      "cell_type": "code",
      "source": [
        "# Multilayer Perceptron Classifier\n",
        "\n",
        "Multilayer_Perceptron = MLPClassifier()\n",
        "\n",
        "Multilayer_Perceptron.fit(X_train, y_train)\n",
        "\n",
        "y_prediction = Multilayer_Perceptron.predict(X_test)\n",
        "\n",
        "acc_MLPClassifier = round(accuracy_score(y_test, y_prediction) * 100, 2)\n",
        "print(\"The accuracy of Multilayer Perceptron Classifier : \",acc_MLPClassifier , \"%\")\n",
        "\n",
        "con_matrix = metrics.confusion_matrix(y_test, y_prediction)\n",
        "print('Confusion matrix:')\n",
        "print(con_matrix)\n",
        "class_report = metrics.classification_report(y_test, y_prediction)\n",
        "print('Classification Report:')\n",
        "print(class_report)"
      ],
      "metadata": {
        "colab": {
          "base_uri": "https://localhost:8080/"
        },
        "id": "EkEPO0oKi-Mm",
        "outputId": "a7e32287-48fc-42a4-c88a-baf6a792a1e5"
      },
      "execution_count": 34,
      "outputs": [
        {
          "output_type": "stream",
          "name": "stdout",
          "text": [
            "The accuracy of Multilayer Perceptron Classifier :  96.3 %\n",
            "Confusion matrix:\n",
            "[[11  0]\n",
            " [ 1 15]]\n",
            "Classification Report:\n",
            "              precision    recall  f1-score   support\n",
            "\n",
            "           0       0.92      1.00      0.96        11\n",
            "           1       1.00      0.94      0.97        16\n",
            "\n",
            "    accuracy                           0.96        27\n",
            "   macro avg       0.96      0.97      0.96        27\n",
            "weighted avg       0.97      0.96      0.96        27\n",
            "\n"
          ]
        },
        {
          "output_type": "stream",
          "name": "stderr",
          "text": [
            "/usr/local/lib/python3.8/dist-packages/sklearn/neural_network/_multilayer_perceptron.py:692: ConvergenceWarning: Stochastic Optimizer: Maximum iterations (200) reached and the optimization hasn't converged yet.\n",
            "  warnings.warn(\n"
          ]
        }
      ]
    },
    {
      "cell_type": "code",
      "source": [
        "con_matrix = confusion_matrix(y_test, y_prediction)\n",
        "\n",
        "cm_display = ConfusionMatrixDisplay(confusion_matrix = con_matrix,\n",
        "                                    display_labels = ['Male', 'Female'])\n",
        "cm_display.plot()\n",
        "plt.show()"
      ],
      "metadata": {
        "colab": {
          "base_uri": "https://localhost:8080/",
          "height": 279
        },
        "id": "rOkbbQPAjDO-",
        "outputId": "540aaf39-2a9b-4228-b673-1cff78f39f87"
      },
      "execution_count": 35,
      "outputs": [
        {
          "output_type": "display_data",
          "data": {
            "text/plain": [
              "<Figure size 432x288 with 2 Axes>"
            ],
            "image/png": "[encoded data removed]"
          },
          "metadata": {
            "needs_background": "light"
          }
        }
      ]
    },
    {
      "cell_type": "code",
      "source": [
        "#Applying hold-out cross-validation 80-20(train-test split)\n",
        "X_train, X_test, y_train, y_test = train_test_split(X, y, stratify=y, test_size=0.2, random_state = 2)"
      ],
      "metadata": {
        "id": "T36jzI76jNE2"
      },
      "execution_count": 36,
      "outputs": []
    },
    {
      "cell_type": "code",
      "source": [
        "X_train.shape"
      ],
      "metadata": {
        "colab": {
          "base_uri": "https://localhost:8080/"
        },
        "id": "KcwcmDRLjUQh",
        "outputId": "d1a89529-8cd3-4ed3-a988-c2bd8f659168"
      },
      "execution_count": 37,
      "outputs": [
        {
          "output_type": "execute_result",
          "data": {
            "text/plain": [
              "(64, 7)"
            ]
          },
          "metadata": {},
          "execution_count": 37
        }
      ]
    },
    {
      "cell_type": "code",
      "source": [
        "X_test.shape"
      ],
      "metadata": {
        "colab": {
          "base_uri": "https://localhost:8080/"
        },
        "id": "ipQIVTtbjVp5",
        "outputId": "f35899a1-5f0a-4052-f111-f166097c1193"
      },
      "execution_count": 38,
      "outputs": [
        {
          "output_type": "execute_result",
          "data": {
            "text/plain": [
              "(16, 7)"
            ]
          },
          "metadata": {},
          "execution_count": 38
        }
      ]
    },
    {
      "cell_type": "code",
      "source": [
        "# Random Forest Classifier\n",
        "\n",
        "random_forest = RandomForestClassifier(n_estimators=10)\n",
        "\n",
        "random_forest.fit(X_train, y_train)\n",
        "\n",
        "y_prediction = random_forest.predict(X_test)\n",
        "\n",
        "acc_randomforrest = round(accuracy_score(y_test, y_prediction) * 100, 2)\n",
        "print(\"The accuracy of Random Forrest Classifier : \",acc_randomforrest , \"%\")\n",
        "\n",
        "con_matrix = metrics.confusion_matrix(y_test, y_prediction)\n",
        "print('Confusion matrix:')\n",
        "print(con_matrix)\n",
        "\n",
        "class_report = metrics.classification_report(y_test, y_prediction)\n",
        "print('Classification Report:')\n",
        "print(class_report)"
      ],
      "metadata": {
        "colab": {
          "base_uri": "https://localhost:8080/"
        },
        "id": "vAKwTb8wjeav",
        "outputId": "08eefc78-4507-4d90-ac5e-fb8eee1772b6"
      },
      "execution_count": 39,
      "outputs": [
        {
          "output_type": "stream",
          "name": "stdout",
          "text": [
            "The accuracy of Random Forrest Classifier :  100.0 %\n",
            "Confusion matrix:\n",
            "[[7 0]\n",
            " [0 9]]\n",
            "Classification Report:\n",
            "              precision    recall  f1-score   support\n",
            "\n",
            "           0       1.00      1.00      1.00         7\n",
            "           1       1.00      1.00      1.00         9\n",
            "\n",
            "    accuracy                           1.00        16\n",
            "   macro avg       1.00      1.00      1.00        16\n",
            "weighted avg       1.00      1.00      1.00        16\n",
            "\n"
          ]
        }
      ]
    },
    {
      "cell_type": "code",
      "source": [
        "con_matrix = confusion_matrix(y_test, y_prediction)\n",
        "\n",
        "cm_display = ConfusionMatrixDisplay(confusion_matrix = con_matrix,\n",
        "                                    display_labels = ['Male', 'Female'])\n",
        "cm_display.plot()\n",
        "plt.show()"
      ],
      "metadata": {
        "colab": {
          "base_uri": "https://localhost:8080/",
          "height": 283
        },
        "id": "82zXhL8Tjfzq",
        "outputId": "7650512b-6ef7-4f84-a81f-190dc9d91b4a"
      },
      "execution_count": 40,
      "outputs": [
        {
          "output_type": "display_data",
          "data": {
            "text/plain": [
              "<Figure size 432x288 with 2 Axes>"
            ],
            "image/png": "[encoded data removed]"
          },
          "metadata": {
            "needs_background": "light"
          }
        }
      ]
    },
    {
      "cell_type": "code",
      "source": [
        "# Support Vector Machines, Linear SVC Classifier\n",
        "\n",
        "SVM = svm.SVC(kernel='linear')\n",
        "\n",
        "SVM.fit(X_train, y_train)\n",
        "\n",
        "y_prediction = SVM.predict(X_test)\n",
        "\n",
        "acc_SVM = round(accuracy_score(y_test, y_prediction) * 100, 2)\n",
        "print(\"The accuracy of SVM Classifier : \",acc_SVM , \"%\")\n",
        "\n",
        "con_matrix = metrics.confusion_matrix(y_test, y_prediction)\n",
        "print('Confusion matrix:')\n",
        "print(con_matrix)\n",
        "\n",
        "class_report = metrics.classification_report(y_test, y_prediction)\n",
        "print('Classification Report:')\n",
        "print(class_report)"
      ],
      "metadata": {
        "colab": {
          "base_uri": "https://localhost:8080/"
        },
        "id": "gIB3fAT3jjsQ",
        "outputId": "01078614-5809-4652-bce5-06fd801a7313"
      },
      "execution_count": 41,
      "outputs": [
        {
          "output_type": "stream",
          "name": "stdout",
          "text": [
            "The accuracy of SVM Classifier :  100.0 %\n",
            "Confusion matrix:\n",
            "[[7 0]\n",
            " [0 9]]\n",
            "Classification Report:\n",
            "              precision    recall  f1-score   support\n",
            "\n",
            "           0       1.00      1.00      1.00         7\n",
            "           1       1.00      1.00      1.00         9\n",
            "\n",
            "    accuracy                           1.00        16\n",
            "   macro avg       1.00      1.00      1.00        16\n",
            "weighted avg       1.00      1.00      1.00        16\n",
            "\n"
          ]
        }
      ]
    },
    {
      "cell_type": "code",
      "source": [
        "con_matrix = confusion_matrix(y_test, y_prediction)\n",
        "\n",
        "cm_display = ConfusionMatrixDisplay(confusion_matrix = con_matrix,\n",
        "                                    display_labels = ['Male', 'Female'])\n",
        "cm_display.plot()\n",
        "plt.show()"
      ],
      "metadata": {
        "colab": {
          "base_uri": "https://localhost:8080/",
          "height": 283
        },
        "id": "vWzDSAiCjo0s",
        "outputId": "b3a2eba0-2045-41c0-85d0-7a7bc8447c6b"
      },
      "execution_count": 42,
      "outputs": [
        {
          "output_type": "display_data",
          "data": {
            "text/plain": [
              "<Figure size 432x288 with 2 Axes>"
            ],
            "image/png": "[encoded data removed]"
          },
          "metadata": {
            "needs_background": "light"
          }
        }
      ]
    },
    {
      "cell_type": "code",
      "source": [
        "# Multilayer Perceptron Classifier\n",
        "\n",
        "Multilayer_Perceptron = MLPClassifier()\n",
        "\n",
        "Multilayer_Perceptron.fit(X_train, y_train)\n",
        "\n",
        "y_prediction = Multilayer_Perceptron.predict(X_test)\n",
        "\n",
        "acc_MLPClassifier = round(accuracy_score(y_test, y_prediction) * 100, 2)\n",
        "print(\"The accuracy of Multilayer Perceptron Classifier : \",acc_MLPClassifier , \"%\")\n",
        "\n",
        "con_matrix = metrics.confusion_matrix(y_test, y_prediction)\n",
        "print('Confusion matrix:')\n",
        "print(con_matrix)\n",
        "\n",
        "class_report = metrics.classification_report(y_test, y_prediction)\n",
        "print('Classification Report:')\n",
        "print(class_report)"
      ],
      "metadata": {
        "colab": {
          "base_uri": "https://localhost:8080/"
        },
        "id": "u6dQb8mmjvHa",
        "outputId": "3532d992-a89b-4ed0-97d2-fbc28858162c"
      },
      "execution_count": 43,
      "outputs": [
        {
          "output_type": "stream",
          "name": "stdout",
          "text": [
            "The accuracy of Multilayer Perceptron Classifier :  93.75 %\n",
            "Confusion matrix:\n",
            "[[7 0]\n",
            " [1 8]]\n",
            "Classification Report:\n",
            "              precision    recall  f1-score   support\n",
            "\n",
            "           0       0.88      1.00      0.93         7\n",
            "           1       1.00      0.89      0.94         9\n",
            "\n",
            "    accuracy                           0.94        16\n",
            "   macro avg       0.94      0.94      0.94        16\n",
            "weighted avg       0.95      0.94      0.94        16\n",
            "\n"
          ]
        },
        {
          "output_type": "stream",
          "name": "stderr",
          "text": [
            "/usr/local/lib/python3.8/dist-packages/sklearn/neural_network/_multilayer_perceptron.py:692: ConvergenceWarning: Stochastic Optimizer: Maximum iterations (200) reached and the optimization hasn't converged yet.\n",
            "  warnings.warn(\n"
          ]
        }
      ]
    },
    {
      "cell_type": "code",
      "source": [
        "con_matrix = confusion_matrix(y_test, y_prediction)\n",
        "\n",
        "cm_display = ConfusionMatrixDisplay(confusion_matrix = con_matrix,\n",
        "                                    display_labels = ['Male', 'Female'])\n",
        "cm_display.plot()\n",
        "plt.show()"
      ],
      "metadata": {
        "colab": {
          "base_uri": "https://localhost:8080/",
          "height": 283
        },
        "id": "xXOwhHtujy_q",
        "outputId": "641bee1a-ab92-421a-8c70-3694e58a576e"
      },
      "execution_count": 44,
      "outputs": [
        {
          "output_type": "display_data",
          "data": {
            "text/plain": [
              "<Figure size 432x288 with 2 Axes>"
            ],
            "image/png": "[encoded data removed]"
          },
          "metadata": {
            "needs_background": "light"
          }
        }
      ]
    },
    {
      "cell_type": "code",
      "source": [
        "features = X_train.columns\n",
        "FI = RandomForestClassifier(n_estimators=10)\n",
        "FI.fit(X_train,y_train)\n",
        "feature_importance = pd.DataFrame(data={\n",
        "'Feature': features,\n",
        "'Importance': FI.feature_importances_\n",
        "})\n",
        "\n",
        "feature_importance = feature_importance.sort_values(by='Importance',ascending=False)"
      ],
      "metadata": {
        "id": "7eHTuLRWj2NO"
      },
      "execution_count": 45,
      "outputs": []
    },
    {
      "cell_type": "code",
      "source": [
        "plt.figure(figsize=(10, 5))\n",
        "plt.bar(x=feature_importance['Feature'], height=feature_importance['Importance']),\n",
        "plt.title('Feature importances from decision tree classifier (a tree-based model)', size=18)\n",
        "plt.ylabel(\"Feature Importance\", size=14)\n",
        "\n",
        "plt.xlabel(\"features\", size=14)\n",
        "\n",
        "plt.xticks(rotation=45)\n",
        "\n",
        "plt.show()"
      ],
      "metadata": {
        "colab": {
          "base_uri": "https://localhost:8080/",
          "height": 395
        },
        "id": "mtJHJeuHj-72",
        "outputId": "4b61b3bb-bd92-4529-9ad7-a9c1ba825f4b"
      },
      "execution_count": 46,
      "outputs": [
        {
          "output_type": "display_data",
          "data": {
            "text/plain": [
              "<Figure size 720x360 with 1 Axes>"
            ],
            "image/png": "[encoded data removed]"
          },
          "metadata": {
            "needs_background": "light"
          }
        }
      ]
    },
    {
      "cell_type": "code",
      "source": [],
      "metadata": {
        "id": "PB2THGZ7kEUS"
      },
      "execution_count": null,
      "outputs": []
    },
    {
      "cell_type": "code",
      "source": [
        "X = csvData.drop(['shoe_size', 'beard', 'gender'], axis = 1)\n",
        "y = csvData['gender']"
      ],
      "metadata": {
        "id": "3vGWn5Frjeuh"
      },
      "execution_count": 47,
      "outputs": []
    },
    {
      "cell_type": "code",
      "source": [
        "X"
      ],
      "metadata": {
        "colab": {
          "base_uri": "https://localhost:8080/",
          "height": 424
        },
        "id": "Bf_8AFgmkM5t",
        "outputId": "5de5004a-7757-4c64-ad11-6b5adbfa76a4"
      },
      "execution_count": 48,
      "outputs": [
        {
          "output_type": "execute_result",
          "data": {
            "text/plain": [
              "    height  weight  hair_length  scarf  eye_color\n",
              "0       71     176            3      0          0\n",
              "1       68     165            0      0          0\n",
              "2       62     132            2      1          1\n",
              "3       65     138            1      0          3\n",
              "4       70     197            2      0          3\n",
              "..     ...     ...          ...    ...        ...\n",
              "75      65      99            3      1          4\n",
              "76      61      98            3      0          2\n",
              "77      67     119            3      0          0\n",
              "78      70     190            2      0          3\n",
              "79      62     142            1      0          1\n",
              "\n",
              "[80 rows x 5 columns]"
            ],
            "text/html": [
              "\n",
              "  <div id=\"df-cb654f04-848c-4e25-a132-0bcd826cecfc\">\n",
              "    <div class=\"colab-df-container\">\n",
              "      <div>\n",
              "<style scoped>\n",
              "    .dataframe tbody tr th:only-of-type {\n",
              "        vertical-align: middle;\n",
              "    }\n",
              "\n",
              "    .dataframe tbody tr th {\n",
              "        vertical-align: top;\n",
              "    }\n",
              "\n",
              "    .dataframe thead th {\n",
              "        text-align: right;\n",
              "    }\n",
              "</style>\n",
              "<table border=\"1\" class=\"dataframe\">\n",
              "  <thead>\n",
              "    <tr style=\"text-align: right;\">\n",
              "      <th></th>\n",
              "      <th>height</th>\n",
              "      <th>weight</th>\n",
              "      <th>hair_length</th>\n",
              "      <th>scarf</th>\n",
              "      <th>eye_color</th>\n",
              "    </tr>\n",
              "  </thead>\n",
              "  <tbody>\n",
              "    <tr>\n",
              "      <th>0</th>\n",
              "      <td>71</td>\n",
              "      <td>176</td>\n",
              "      <td>3</td>\n",
              "      <td>0</td>\n",
              "      <td>0</td>\n",
              "    </tr>\n",
              "    <tr>\n",
              "      <th>1</th>\n",
              "      <td>68</td>\n",
              "      <td>165</td>\n",
              "      <td>0</td>\n",
              "      <td>0</td>\n",
              "      <td>0</td>\n",
              "    </tr>\n",
              "    <tr>\n",
              "      <th>2</th>\n",
              "      <td>62</td>\n",
              "      <td>132</td>\n",
              "      <td>2</td>\n",
              "      <td>1</td>\n",
              "      <td>1</td>\n",
              "    </tr>\n",
              "    <tr>\n",
              "      <th>3</th>\n",
              "      <td>65</td>\n",
              "      <td>138</td>\n",
              "      <td>1</td>\n",
              "      <td>0</td>\n",
              "      <td>3</td>\n",
              "    </tr>\n",
              "    <tr>\n",
              "      <th>4</th>\n",
              "      <td>70</td>\n",
              "      <td>197</td>\n",
              "      <td>2</td>\n",
              "      <td>0</td>\n",
              "      <td>3</td>\n",
              "    </tr>\n",
              "    <tr>\n",
              "      <th>...</th>\n",
              "      <td>...</td>\n",
              "      <td>...</td>\n",
              "      <td>...</td>\n",
              "      <td>...</td>\n",
              "      <td>...</td>\n",
              "    </tr>\n",
              "    <tr>\n",
              "      <th>75</th>\n",
              "      <td>65</td>\n",
              "      <td>99</td>\n",
              "      <td>3</td>\n",
              "      <td>1</td>\n",
              "      <td>4</td>\n",
              "    </tr>\n",
              "    <tr>\n",
              "      <th>76</th>\n",
              "      <td>61</td>\n",
              "      <td>98</td>\n",
              "      <td>3</td>\n",
              "      <td>0</td>\n",
              "      <td>2</td>\n",
              "    </tr>\n",
              "    <tr>\n",
              "      <th>77</th>\n",
              "      <td>67</td>\n",
              "      <td>119</td>\n",
              "      <td>3</td>\n",
              "      <td>0</td>\n",
              "      <td>0</td>\n",
              "    </tr>\n",
              "    <tr>\n",
              "      <th>78</th>\n",
              "      <td>70</td>\n",
              "      <td>190</td>\n",
              "      <td>2</td>\n",
              "      <td>0</td>\n",
              "      <td>3</td>\n",
              "    </tr>\n",
              "    <tr>\n",
              "      <th>79</th>\n",
              "      <td>62</td>\n",
              "      <td>142</td>\n",
              "      <td>1</td>\n",
              "      <td>0</td>\n",
              "      <td>1</td>\n",
              "    </tr>\n",
              "  </tbody>\n",
              "</table>\n",
              "<p>80 rows × 5 columns</p>\n",
              "</div>\n",
              "      <button class=\"colab-df-convert\" onclick=\"convertToInteractive('df-cb654f04-848c-4e25-a132-0bcd826cecfc')\"\n",
              "              title=\"Convert this dataframe to an interactive table.\"\n",
              "              style=\"display:none;\">\n",
              "        \n",
              "  <svg xmlns=\"http://www.w3.org/2000/svg\" height=\"24px\"viewBox=\"0 0 24 24\"\n",
              "       width=\"24px\">\n",
              "    <path d=\"M0 0h24v24H0V0z\" fill=\"none\"/>\n",
              "    <path d=\"M18.56 5.44l.94 2.06.94-2.06 2.06-.94-2.06-.94-.94-2.06-.94 2.06-2.06.94zm-11 1L8.5 8.5l.94-2.06 2.06-.94-2.06-.94L8.5 2.5l-.94 2.06-2.06.94zm10 10l.94 2.06.94-2.06 2.06-.94-2.06-.94-.94-2.06-.94 2.06-2.06.94z\"/><path d=\"M17.41 7.96l-1.37-1.37c-.4-.4-.92-.59-1.43-.59-.52 0-1.04.2-1.43.59L10.3 9.45l-7.72 7.72c-.78.78-.78 2.05 0 2.83L4 21.41c.39.39.9.59 1.41.59.51 0 1.02-.2 1.41-.59l7.78-7.78 2.81-2.81c.8-.78.8-2.07 0-2.86zM5.41 20L4 18.59l7.72-7.72 1.47 1.35L5.41 20z\"/>\n",
              "  </svg>\n",
              "      </button>\n",
              "      \n",
              "  <style>\n",
              "    .colab-df-container {\n",
              "      display:flex;\n",
              "      flex-wrap:wrap;\n",
              "      gap: 12px;\n",
              "    }\n",
              "\n",
              "    .colab-df-convert {\n",
              "      background-color: #E8F0FE;\n",
              "      border: none;\n",
              "      border-radius: 50%;\n",
              "      cursor: pointer;\n",
              "      display: none;\n",
              "      fill: #1967D2;\n",
              "      height: 32px;\n",
              "      padding: 0 0 0 0;\n",
              "      width: 32px;\n",
              "    }\n",
              "\n",
              "    .colab-df-convert:hover {\n",
              "      background-color: #E2EBFA;\n",
              "      box-shadow: 0px 1px 2px rgba(60, 64, 67, 0.3), 0px 1px 3px 1px rgba(60, 64, 67, 0.15);\n",
              "      fill: #174EA6;\n",
              "    }\n",
              "\n",
              "    [theme=dark] .colab-df-convert {\n",
              "      background-color: #3B4455;\n",
              "      fill: #D2E3FC;\n",
              "    }\n",
              "\n",
              "    [theme=dark] .colab-df-convert:hover {\n",
              "      background-color: #434B5C;\n",
              "      box-shadow: 0px 1px 3px 1px rgba(0, 0, 0, 0.15);\n",
              "      filter: drop-shadow(0px 1px 2px rgba(0, 0, 0, 0.3));\n",
              "      fill: #FFFFFF;\n",
              "    }\n",
              "  </style>\n",
              "\n",
              "      <script>\n",
              "        const buttonEl =\n",
              "          document.querySelector('#df-cb654f04-848c-4e25-a132-0bcd826cecfc button.colab-df-convert');\n",
              "        buttonEl.style.display =\n",
              "          google.colab.kernel.accessAllowed ? 'block' : 'none';\n",
              "\n",
              "        async function convertToInteractive(key) {\n",
              "          const element = document.querySelector('#df-cb654f04-848c-4e25-a132-0bcd826cecfc');\n",
              "          const dataTable =\n",
              "            await google.colab.kernel.invokeFunction('convertToInteractive',\n",
              "                                                     [key], {});\n",
              "          if (!dataTable) return;\n",
              "\n",
              "          const docLinkHtml = 'Like what you see? Visit the ' +\n",
              "            '<a target=\"_blank\" href=https://colab.research.google.com/notebooks/data_table.ipynb>data table notebook</a>'\n",
              "            + ' to learn more about interactive tables.';\n",
              "          element.innerHTML = '';\n",
              "          dataTable['output_type'] = 'display_data';\n",
              "          await google.colab.output.renderOutput(dataTable, element);\n",
              "          const docLink = document.createElement('div');\n",
              "          docLink.innerHTML = docLinkHtml;\n",
              "          element.appendChild(docLink);\n",
              "        }\n",
              "      </script>\n",
              "    </div>\n",
              "  </div>\n",
              "  "
            ]
          },
          "metadata": {},
          "execution_count": 48
        }
      ]
    },
    {
      "cell_type": "code",
      "source": [
        "X_train, X_test, y_train, y_test = train_test_split(X, y, stratify=y, test_size=0.2, random_state = 2)"
      ],
      "metadata": {
        "id": "Vp6gTMFckPeH"
      },
      "execution_count": 49,
      "outputs": []
    },
    {
      "cell_type": "code",
      "source": [
        "X_train.shape\n"
      ],
      "metadata": {
        "colab": {
          "base_uri": "https://localhost:8080/"
        },
        "id": "b717_DzVkUii",
        "outputId": "ffec69ed-642f-4656-c64f-a6305e576bca"
      },
      "execution_count": 50,
      "outputs": [
        {
          "output_type": "execute_result",
          "data": {
            "text/plain": [
              "(64, 5)"
            ]
          },
          "metadata": {},
          "execution_count": 50
        }
      ]
    },
    {
      "cell_type": "code",
      "source": [
        "X_test.shape"
      ],
      "metadata": {
        "colab": {
          "base_uri": "https://localhost:8080/"
        },
        "id": "_NX2IFvgkWiH",
        "outputId": "b4f6ab6a-730c-4de4-bb15-c4eba745ddcd"
      },
      "execution_count": 51,
      "outputs": [
        {
          "output_type": "execute_result",
          "data": {
            "text/plain": [
              "(16, 5)"
            ]
          },
          "metadata": {},
          "execution_count": 51
        }
      ]
    },
    {
      "cell_type": "code",
      "source": [
        "# Random Forest Classifier\n",
        "\n",
        "random_forest = RandomForestClassifier(n_estimators=10)\n",
        "\n",
        "random_forest.fit(X_train, y_train)\n",
        "\n",
        "y_prediction = random_forest.predict(X_test)\n",
        "\n",
        "acc_randomforrest = round(accuracy_score(y_test, y_prediction) * 100, 2)\n",
        "print(\"The accuracy of Random Forrest Classifier : \",acc_randomforrest , \"%\")\n",
        "\n",
        "con_matrix = metrics.confusion_matrix(y_test, y_prediction)\n",
        "print('Confusion matrix:')\n",
        "print(con_matrix)\n",
        "\n",
        "class_report = metrics.classification_report(y_test, y_prediction)\n",
        "print('Classification Report:')\n",
        "print(class_report)"
      ],
      "metadata": {
        "colab": {
          "base_uri": "https://localhost:8080/"
        },
        "id": "JgMj9wuGkZPq",
        "outputId": "8302b6fd-5e73-40f5-8c8e-2675e38928f3"
      },
      "execution_count": 52,
      "outputs": [
        {
          "output_type": "stream",
          "name": "stdout",
          "text": [
            "The accuracy of Random Forrest Classifier :  87.5 %\n",
            "Confusion matrix:\n",
            "[[6 1]\n",
            " [1 8]]\n",
            "Classification Report:\n",
            "              precision    recall  f1-score   support\n",
            "\n",
            "           0       0.86      0.86      0.86         7\n",
            "           1       0.89      0.89      0.89         9\n",
            "\n",
            "    accuracy                           0.88        16\n",
            "   macro avg       0.87      0.87      0.87        16\n",
            "weighted avg       0.88      0.88      0.88        16\n",
            "\n"
          ]
        }
      ]
    },
    {
      "cell_type": "code",
      "source": [
        "# Support Vector Machines, Linear SVC Classifier\n",
        "\n",
        "SVM = svm.SVC(kernel='linear')\n",
        "\n",
        "SVM.fit(X_train, y_train)\n",
        "\n",
        "y_prediction = SVM.predict(X_test)\n",
        "\n",
        "acc_SVM = round(accuracy_score(y_test, y_prediction) * 100, 2)\n",
        "print(\"The accuracy of SVM Classifier : \",acc_SVM , \"%\")\n",
        "\n",
        "con_matrix = metrics.confusion_matrix(y_test, y_prediction)\n",
        "print('Confusion matrix:')\n",
        "print(con_matrix)\n",
        "\n",
        "class_report = metrics.classification_report(y_test, y_prediction)\n",
        "print('Classification Report:')\n",
        "print(class_report)"
      ],
      "metadata": {
        "colab": {
          "base_uri": "https://localhost:8080/"
        },
        "id": "0Lkh03rSkjuZ",
        "outputId": "f009b91f-ff7b-4699-a84e-4e138d955c74"
      },
      "execution_count": 53,
      "outputs": [
        {
          "output_type": "stream",
          "name": "stdout",
          "text": [
            "The accuracy of SVM Classifier :  100.0 %\n",
            "Confusion matrix:\n",
            "[[7 0]\n",
            " [0 9]]\n",
            "Classification Report:\n",
            "              precision    recall  f1-score   support\n",
            "\n",
            "           0       1.00      1.00      1.00         7\n",
            "           1       1.00      1.00      1.00         9\n",
            "\n",
            "    accuracy                           1.00        16\n",
            "   macro avg       1.00      1.00      1.00        16\n",
            "weighted avg       1.00      1.00      1.00        16\n",
            "\n"
          ]
        }
      ]
    },
    {
      "cell_type": "code",
      "source": [
        "# Multilayer Perceptron Classifier\n",
        "\n",
        "Multilayer_Perceptron = MLPClassifier()\n",
        "\n",
        "Multilayer_Perceptron.fit(X_train, y_train)\n",
        "\n",
        "y_prediction = Multilayer_Perceptron.predict(X_test)\n",
        "\n",
        "acc_MLPClassifier = round(accuracy_score(y_test, y_prediction) * 100, 2)\n",
        "print(\"The accuracy of Multilayer Perceptron Classifier : \",acc_MLPClassifier , \"%\")\n",
        "\n",
        "con_matrix = metrics.confusion_matrix(y_test, y_prediction)\n",
        "print('Confusion matrix:')\n",
        "print(con_matrix)\n",
        "\n",
        "class_report = metrics.classification_report(y_test, y_prediction)\n",
        "print('Classification Report:')\n",
        "print(class_report)"
      ],
      "metadata": {
        "colab": {
          "base_uri": "https://localhost:8080/"
        },
        "id": "Smx3zFcEkk3T",
        "outputId": "cf20bbdd-d057-4608-a575-f227aeebb516"
      },
      "execution_count": 54,
      "outputs": [
        {
          "output_type": "stream",
          "name": "stdout",
          "text": [
            "The accuracy of Multilayer Perceptron Classifier :  93.75 %\n",
            "Confusion matrix:\n",
            "[[7 0]\n",
            " [1 8]]\n",
            "Classification Report:\n",
            "              precision    recall  f1-score   support\n",
            "\n",
            "           0       0.88      1.00      0.93         7\n",
            "           1       1.00      0.89      0.94         9\n",
            "\n",
            "    accuracy                           0.94        16\n",
            "   macro avg       0.94      0.94      0.94        16\n",
            "weighted avg       0.95      0.94      0.94        16\n",
            "\n"
          ]
        },
        {
          "output_type": "stream",
          "name": "stderr",
          "text": [
            "/usr/local/lib/python3.8/dist-packages/sklearn/neural_network/_multilayer_perceptron.py:692: ConvergenceWarning: Stochastic Optimizer: Maximum iterations (200) reached and the optimization hasn't converged yet.\n",
            "  warnings.warn(\n"
          ]
        }
      ]
    },
    {
      "cell_type": "code",
      "source": [
        "csvData2= pd.read_csv('/content/drive/MyDrive/gender2.csv')\n",
        "\n",
        "csvData2"
      ],
      "metadata": {
        "colab": {
          "base_uri": "https://localhost:8080/",
          "height": 424
        },
        "id": "cgoQUq_IkyCr",
        "outputId": "48abad66-fa6e-48dd-d6c7-ff7553f21e9e"
      },
      "execution_count": 59,
      "outputs": [
        {
          "output_type": "execute_result",
          "data": {
            "text/plain": [
              "    height  weight beard hair_length  shoe_size scarf eye_color  gender\n",
              "0       71     176   yes       short         44    no     black    male\n",
              "1       68     165    no        bald         41    no     black    male\n",
              "2       62     132    no      medium         37   yes      blue  female\n",
              "3       65     138    no        long         38    no      gray  female\n",
              "4       70     197   yes      medium         43    no      gray    male\n",
              "..     ...     ...   ...         ...        ...   ...       ...     ...\n",
              "83      65      99    no       short         39   yes     green  female\n",
              "84      61      98    no       short         38    no     brown  female\n",
              "85      67     169   yes       short         40    no     black    male\n",
              "86      70     150   yes      medium         43    no       red  female\n",
              "87      62     132   yes        long         37    no      blue  female\n",
              "\n",
              "[88 rows x 8 columns]"
            ],
            "text/html": [
              "\n",
              "  <div id=\"df-5e36ca94-d94d-4e4f-89d9-a8304eea60e2\">\n",
              "    <div class=\"colab-df-container\">\n",
              "      <div>\n",
              "<style scoped>\n",
              "    .dataframe tbody tr th:only-of-type {\n",
              "        vertical-align: middle;\n",
              "    }\n",
              "\n",
              "    .dataframe tbody tr th {\n",
              "        vertical-align: top;\n",
              "    }\n",
              "\n",
              "    .dataframe thead th {\n",
              "        text-align: right;\n",
              "    }\n",
              "</style>\n",
              "<table border=\"1\" class=\"dataframe\">\n",
              "  <thead>\n",
              "    <tr style=\"text-align: right;\">\n",
              "      <th></th>\n",
              "      <th>height</th>\n",
              "      <th>weight</th>\n",
              "      <th>beard</th>\n",
              "      <th>hair_length</th>\n",
              "      <th>shoe_size</th>\n",
              "      <th>scarf</th>\n",
              "      <th>eye_color</th>\n",
              "      <th>gender</th>\n",
              "    </tr>\n",
              "  </thead>\n",
              "  <tbody>\n",
              "    <tr>\n",
              "      <th>0</th>\n",
              "      <td>71</td>\n",
              "      <td>176</td>\n",
              "      <td>yes</td>\n",
              "      <td>short</td>\n",
              "      <td>44</td>\n",
              "      <td>no</td>\n",
              "      <td>black</td>\n",
              "      <td>male</td>\n",
              "    </tr>\n",
              "    <tr>\n",
              "      <th>1</th>\n",
              "      <td>68</td>\n",
              "      <td>165</td>\n",
              "      <td>no</td>\n",
              "      <td>bald</td>\n",
              "      <td>41</td>\n",
              "      <td>no</td>\n",
              "      <td>black</td>\n",
              "      <td>male</td>\n",
              "    </tr>\n",
              "    <tr>\n",
              "      <th>2</th>\n",
              "      <td>62</td>\n",
              "      <td>132</td>\n",
              "      <td>no</td>\n",
              "      <td>medium</td>\n",
              "      <td>37</td>\n",
              "      <td>yes</td>\n",
              "      <td>blue</td>\n",
              "      <td>female</td>\n",
              "    </tr>\n",
              "    <tr>\n",
              "      <th>3</th>\n",
              "      <td>65</td>\n",
              "      <td>138</td>\n",
              "      <td>no</td>\n",
              "      <td>long</td>\n",
              "      <td>38</td>\n",
              "      <td>no</td>\n",
              "      <td>gray</td>\n",
              "      <td>female</td>\n",
              "    </tr>\n",
              "    <tr>\n",
              "      <th>4</th>\n",
              "      <td>70</td>\n",
              "      <td>197</td>\n",
              "      <td>yes</td>\n",
              "      <td>medium</td>\n",
              "      <td>43</td>\n",
              "      <td>no</td>\n",
              "      <td>gray</td>\n",
              "      <td>male</td>\n",
              "    </tr>\n",
              "    <tr>\n",
              "      <th>...</th>\n",
              "      <td>...</td>\n",
              "      <td>...</td>\n",
              "      <td>...</td>\n",
              "      <td>...</td>\n",
              "      <td>...</td>\n",
              "      <td>...</td>\n",
              "      <td>...</td>\n",
              "      <td>...</td>\n",
              "    </tr>\n",
              "    <tr>\n",
              "      <th>83</th>\n",
              "      <td>65</td>\n",
              "      <td>99</td>\n",
              "      <td>no</td>\n",
              "      <td>short</td>\n",
              "      <td>39</td>\n",
              "      <td>yes</td>\n",
              "      <td>green</td>\n",
              "      <td>female</td>\n",
              "    </tr>\n",
              "    <tr>\n",
              "      <th>84</th>\n",
              "      <td>61</td>\n",
              "      <td>98</td>\n",
              "      <td>no</td>\n",
              "      <td>short</td>\n",
              "      <td>38</td>\n",
              "      <td>no</td>\n",
              "      <td>brown</td>\n",
              "      <td>female</td>\n",
              "    </tr>\n",
              "    <tr>\n",
              "      <th>85</th>\n",
              "      <td>67</td>\n",
              "      <td>169</td>\n",
              "      <td>yes</td>\n",
              "      <td>short</td>\n",
              "      <td>40</td>\n",
              "      <td>no</td>\n",
              "      <td>black</td>\n",
              "      <td>male</td>\n",
              "    </tr>\n",
              "    <tr>\n",
              "      <th>86</th>\n",
              "      <td>70</td>\n",
              "      <td>150</td>\n",
              "      <td>yes</td>\n",
              "      <td>medium</td>\n",
              "      <td>43</td>\n",
              "      <td>no</td>\n",
              "      <td>red</td>\n",
              "      <td>female</td>\n",
              "    </tr>\n",
              "    <tr>\n",
              "      <th>87</th>\n",
              "      <td>62</td>\n",
              "      <td>132</td>\n",
              "      <td>yes</td>\n",
              "      <td>long</td>\n",
              "      <td>37</td>\n",
              "      <td>no</td>\n",
              "      <td>blue</td>\n",
              "      <td>female</td>\n",
              "    </tr>\n",
              "  </tbody>\n",
              "</table>\n",
              "<p>88 rows × 8 columns</p>\n",
              "</div>\n",
              "      <button class=\"colab-df-convert\" onclick=\"convertToInteractive('df-5e36ca94-d94d-4e4f-89d9-a8304eea60e2')\"\n",
              "              title=\"Convert this dataframe to an interactive table.\"\n",
              "              style=\"display:none;\">\n",
              "        \n",
              "  <svg xmlns=\"http://www.w3.org/2000/svg\" height=\"24px\"viewBox=\"0 0 24 24\"\n",
              "       width=\"24px\">\n",
              "    <path d=\"M0 0h24v24H0V0z\" fill=\"none\"/>\n",
              "    <path d=\"M18.56 5.44l.94 2.06.94-2.06 2.06-.94-2.06-.94-.94-2.06-.94 2.06-2.06.94zm-11 1L8.5 8.5l.94-2.06 2.06-.94-2.06-.94L8.5 2.5l-.94 2.06-2.06.94zm10 10l.94 2.06.94-2.06 2.06-.94-2.06-.94-.94-2.06-.94 2.06-2.06.94z\"/><path d=\"M17.41 7.96l-1.37-1.37c-.4-.4-.92-.59-1.43-.59-.52 0-1.04.2-1.43.59L10.3 9.45l-7.72 7.72c-.78.78-.78 2.05 0 2.83L4 21.41c.39.39.9.59 1.41.59.51 0 1.02-.2 1.41-.59l7.78-7.78 2.81-2.81c.8-.78.8-2.07 0-2.86zM5.41 20L4 18.59l7.72-7.72 1.47 1.35L5.41 20z\"/>\n",
              "  </svg>\n",
              "      </button>\n",
              "      \n",
              "  <style>\n",
              "    .colab-df-container {\n",
              "      display:flex;\n",
              "      flex-wrap:wrap;\n",
              "      gap: 12px;\n",
              "    }\n",
              "\n",
              "    .colab-df-convert {\n",
              "      background-color: #E8F0FE;\n",
              "      border: none;\n",
              "      border-radius: 50%;\n",
              "      cursor: pointer;\n",
              "      display: none;\n",
              "      fill: #1967D2;\n",
              "      height: 32px;\n",
              "      padding: 0 0 0 0;\n",
              "      width: 32px;\n",
              "    }\n",
              "\n",
              "    .colab-df-convert:hover {\n",
              "      background-color: #E2EBFA;\n",
              "      box-shadow: 0px 1px 2px rgba(60, 64, 67, 0.3), 0px 1px 3px 1px rgba(60, 64, 67, 0.15);\n",
              "      fill: #174EA6;\n",
              "    }\n",
              "\n",
              "    [theme=dark] .colab-df-convert {\n",
              "      background-color: #3B4455;\n",
              "      fill: #D2E3FC;\n",
              "    }\n",
              "\n",
              "    [theme=dark] .colab-df-convert:hover {\n",
              "      background-color: #434B5C;\n",
              "      box-shadow: 0px 1px 3px 1px rgba(0, 0, 0, 0.15);\n",
              "      filter: drop-shadow(0px 1px 2px rgba(0, 0, 0, 0.3));\n",
              "      fill: #FFFFFF;\n",
              "    }\n",
              "  </style>\n",
              "\n",
              "      <script>\n",
              "        const buttonEl =\n",
              "          document.querySelector('#df-5e36ca94-d94d-4e4f-89d9-a8304eea60e2 button.colab-df-convert');\n",
              "        buttonEl.style.display =\n",
              "          google.colab.kernel.accessAllowed ? 'block' : 'none';\n",
              "\n",
              "        async function convertToInteractive(key) {\n",
              "          const element = document.querySelector('#df-5e36ca94-d94d-4e4f-89d9-a8304eea60e2');\n",
              "          const dataTable =\n",
              "            await google.colab.kernel.invokeFunction('convertToInteractive',\n",
              "                                                     [key], {});\n",
              "          if (!dataTable) return;\n",
              "\n",
              "          const docLinkHtml = 'Like what you see? Visit the ' +\n",
              "            '<a target=\"_blank\" href=https://colab.research.google.com/notebooks/data_table.ipynb>data table notebook</a>'\n",
              "            + ' to learn more about interactive tables.';\n",
              "          element.innerHTML = '';\n",
              "          dataTable['output_type'] = 'display_data';\n",
              "          await google.colab.output.renderOutput(dataTable, element);\n",
              "          const docLink = document.createElement('div');\n",
              "          docLink.innerHTML = docLinkHtml;\n",
              "          element.appendChild(docLink);\n",
              "        }\n",
              "      </script>\n",
              "    </div>\n",
              "  </div>\n",
              "  "
            ]
          },
          "metadata": {},
          "execution_count": 59
        }
      ]
    },
    {
      "cell_type": "code",
      "source": [
        "train_data = csvData2.iloc[:80]\n",
        "train_data\n",
        "\n",
        "test_data = csvData2.iloc[80:]\n",
        "test_data"
      ],
      "metadata": {
        "colab": {
          "base_uri": "https://localhost:8080/",
          "height": 300
        },
        "id": "m7Yluyi6l9SY",
        "outputId": "505175de-af10-468c-f10b-7d18ee6137bf"
      },
      "execution_count": 60,
      "outputs": [
        {
          "output_type": "execute_result",
          "data": {
            "text/plain": [
              "    height  weight beard hair_length  shoe_size scarf eye_color  gender\n",
              "80      72     175   yes      medium         44    no     brown    male\n",
              "81      65      94    no        long         38   yes      gray  #NAME?\n",
              "82      67     135    no        long         39   yes     green  female\n",
              "83      65      99    no       short         39   yes     green  female\n",
              "84      61      98    no       short         38    no     brown  female\n",
              "85      67     169   yes       short         40    no     black    male\n",
              "86      70     150   yes      medium         43    no       red  female\n",
              "87      62     132   yes        long         37    no      blue  female"
            ],
            "text/html": [
              "\n",
              "  <div id=\"df-e67d724a-9edd-40a3-adb5-4443ead3dc18\">\n",
              "    <div class=\"colab-df-container\">\n",
              "      <div>\n",
              "<style scoped>\n",
              "    .dataframe tbody tr th:only-of-type {\n",
              "        vertical-align: middle;\n",
              "    }\n",
              "\n",
              "    .dataframe tbody tr th {\n",
              "        vertical-align: top;\n",
              "    }\n",
              "\n",
              "    .dataframe thead th {\n",
              "        text-align: right;\n",
              "    }\n",
              "</style>\n",
              "<table border=\"1\" class=\"dataframe\">\n",
              "  <thead>\n",
              "    <tr style=\"text-align: right;\">\n",
              "      <th></th>\n",
              "      <th>height</th>\n",
              "      <th>weight</th>\n",
              "      <th>beard</th>\n",
              "      <th>hair_length</th>\n",
              "      <th>shoe_size</th>\n",
              "      <th>scarf</th>\n",
              "      <th>eye_color</th>\n",
              "      <th>gender</th>\n",
              "    </tr>\n",
              "  </thead>\n",
              "  <tbody>\n",
              "    <tr>\n",
              "      <th>80</th>\n",
              "      <td>72</td>\n",
              "      <td>175</td>\n",
              "      <td>yes</td>\n",
              "      <td>medium</td>\n",
              "      <td>44</td>\n",
              "      <td>no</td>\n",
              "      <td>brown</td>\n",
              "      <td>male</td>\n",
              "    </tr>\n",
              "    <tr>\n",
              "      <th>81</th>\n",
              "      <td>65</td>\n",
              "      <td>94</td>\n",
              "      <td>no</td>\n",
              "      <td>long</td>\n",
              "      <td>38</td>\n",
              "      <td>yes</td>\n",
              "      <td>gray</td>\n",
              "      <td>#NAME?</td>\n",
              "    </tr>\n",
              "    <tr>\n",
              "      <th>82</th>\n",
              "      <td>67</td>\n",
              "      <td>135</td>\n",
              "      <td>no</td>\n",
              "      <td>long</td>\n",
              "      <td>39</td>\n",
              "      <td>yes</td>\n",
              "      <td>green</td>\n",
              "      <td>female</td>\n",
              "    </tr>\n",
              "    <tr>\n",
              "      <th>83</th>\n",
              "      <td>65</td>\n",
              "      <td>99</td>\n",
              "      <td>no</td>\n",
              "      <td>short</td>\n",
              "      <td>39</td>\n",
              "      <td>yes</td>\n",
              "      <td>green</td>\n",
              "      <td>female</td>\n",
              "    </tr>\n",
              "    <tr>\n",
              "      <th>84</th>\n",
              "      <td>61</td>\n",
              "      <td>98</td>\n",
              "      <td>no</td>\n",
              "      <td>short</td>\n",
              "      <td>38</td>\n",
              "      <td>no</td>\n",
              "      <td>brown</td>\n",
              "      <td>female</td>\n",
              "    </tr>\n",
              "    <tr>\n",
              "      <th>85</th>\n",
              "      <td>67</td>\n",
              "      <td>169</td>\n",
              "      <td>yes</td>\n",
              "      <td>short</td>\n",
              "      <td>40</td>\n",
              "      <td>no</td>\n",
              "      <td>black</td>\n",
              "      <td>male</td>\n",
              "    </tr>\n",
              "    <tr>\n",
              "      <th>86</th>\n",
              "      <td>70</td>\n",
              "      <td>150</td>\n",
              "      <td>yes</td>\n",
              "      <td>medium</td>\n",
              "      <td>43</td>\n",
              "      <td>no</td>\n",
              "      <td>red</td>\n",
              "      <td>female</td>\n",
              "    </tr>\n",
              "    <tr>\n",
              "      <th>87</th>\n",
              "      <td>62</td>\n",
              "      <td>132</td>\n",
              "      <td>yes</td>\n",
              "      <td>long</td>\n",
              "      <td>37</td>\n",
              "      <td>no</td>\n",
              "      <td>blue</td>\n",
              "      <td>female</td>\n",
              "    </tr>\n",
              "  </tbody>\n",
              "</table>\n",
              "</div>\n",
              "      <button class=\"colab-df-convert\" onclick=\"convertToInteractive('df-e67d724a-9edd-40a3-adb5-4443ead3dc18')\"\n",
              "              title=\"Convert this dataframe to an interactive table.\"\n",
              "              style=\"display:none;\">\n",
              "        \n",
              "  <svg xmlns=\"http://www.w3.org/2000/svg\" height=\"24px\"viewBox=\"0 0 24 24\"\n",
              "       width=\"24px\">\n",
              "    <path d=\"M0 0h24v24H0V0z\" fill=\"none\"/>\n",
              "    <path d=\"M18.56 5.44l.94 2.06.94-2.06 2.06-.94-2.06-.94-.94-2.06-.94 2.06-2.06.94zm-11 1L8.5 8.5l.94-2.06 2.06-.94-2.06-.94L8.5 2.5l-.94 2.06-2.06.94zm10 10l.94 2.06.94-2.06 2.06-.94-2.06-.94-.94-2.06-.94 2.06-2.06.94z\"/><path d=\"M17.41 7.96l-1.37-1.37c-.4-.4-.92-.59-1.43-.59-.52 0-1.04.2-1.43.59L10.3 9.45l-7.72 7.72c-.78.78-.78 2.05 0 2.83L4 21.41c.39.39.9.59 1.41.59.51 0 1.02-.2 1.41-.59l7.78-7.78 2.81-2.81c.8-.78.8-2.07 0-2.86zM5.41 20L4 18.59l7.72-7.72 1.47 1.35L5.41 20z\"/>\n",
              "  </svg>\n",
              "      </button>\n",
              "      \n",
              "  <style>\n",
              "    .colab-df-container {\n",
              "      display:flex;\n",
              "      flex-wrap:wrap;\n",
              "      gap: 12px;\n",
              "    }\n",
              "\n",
              "    .colab-df-convert {\n",
              "      background-color: #E8F0FE;\n",
              "      border: none;\n",
              "      border-radius: 50%;\n",
              "      cursor: pointer;\n",
              "      display: none;\n",
              "      fill: #1967D2;\n",
              "      height: 32px;\n",
              "      padding: 0 0 0 0;\n",
              "      width: 32px;\n",
              "    }\n",
              "\n",
              "    .colab-df-convert:hover {\n",
              "      background-color: #E2EBFA;\n",
              "      box-shadow: 0px 1px 2px rgba(60, 64, 67, 0.3), 0px 1px 3px 1px rgba(60, 64, 67, 0.15);\n",
              "      fill: #174EA6;\n",
              "    }\n",
              "\n",
              "    [theme=dark] .colab-df-convert {\n",
              "      background-color: #3B4455;\n",
              "      fill: #D2E3FC;\n",
              "    }\n",
              "\n",
              "    [theme=dark] .colab-df-convert:hover {\n",
              "      background-color: #434B5C;\n",
              "      box-shadow: 0px 1px 3px 1px rgba(0, 0, 0, 0.15);\n",
              "      filter: drop-shadow(0px 1px 2px rgba(0, 0, 0, 0.3));\n",
              "      fill: #FFFFFF;\n",
              "    }\n",
              "  </style>\n",
              "\n",
              "      <script>\n",
              "        const buttonEl =\n",
              "          document.querySelector('#df-e67d724a-9edd-40a3-adb5-4443ead3dc18 button.colab-df-convert');\n",
              "        buttonEl.style.display =\n",
              "          google.colab.kernel.accessAllowed ? 'block' : 'none';\n",
              "\n",
              "        async function convertToInteractive(key) {\n",
              "          const element = document.querySelector('#df-e67d724a-9edd-40a3-adb5-4443ead3dc18');\n",
              "          const dataTable =\n",
              "            await google.colab.kernel.invokeFunction('convertToInteractive',\n",
              "                                                     [key], {});\n",
              "          if (!dataTable) return;\n",
              "\n",
              "          const docLinkHtml = 'Like what you see? Visit the ' +\n",
              "            '<a target=\"_blank\" href=https://colab.research.google.com/notebooks/data_table.ipynb>data table notebook</a>'\n",
              "            + ' to learn more about interactive tables.';\n",
              "          element.innerHTML = '';\n",
              "          dataTable['output_type'] = 'display_data';\n",
              "          await google.colab.output.renderOutput(dataTable, element);\n",
              "          const docLink = document.createElement('div');\n",
              "          docLink.innerHTML = docLinkHtml;\n",
              "          element.appendChild(docLink);\n",
              "        }\n",
              "      </script>\n",
              "    </div>\n",
              "  </div>\n",
              "  "
            ]
          },
          "metadata": {},
          "execution_count": 60
        }
      ]
    },
    {
      "cell_type": "code",
      "source": [
        "labels = preprocessing.LabelEncoder()\n",
        "\n",
        "train_beard_encoded = labels.fit_transform(train_data['beard'])\n",
        "train_hair_length_encoded = labels.fit_transform(train_data['hair_length'])\n",
        "train_scarf_encoded = labels.fit_transform(train_data['scarf'])\n",
        "train_eye_color_encoded = labels.fit_transform(train_data['eye_color'])\n",
        "X_train = list(zip(train_data['height'], train_data['weight'], train_beard_encoded, train_hair_length_encoded, train_data['shoe_size'], train_scarf_encoded, train_eye_color_encoded))\n",
        "Y_train = train_data['gender']\n",
        "test_beard_encoded = labels.fit_transform(test_data['beard'])\n",
        "test_hair_length_encoded = labels.fit_transform(test_data['hair_length'])\n",
        "test_scarf_encoded = labels.fit_transform(test_data['scarf'])\n",
        "test_eye_color_encoded = labels.fit_transform(test_data['eye_color'])\n",
        "x_test = list(zip(test_data['height'], test_data['weight'], test_beard_encoded, test_hair_length_encoded, test_data['shoe_size'], test_scarf_encoded, test_eye_color_encoded))\n",
        "y_test = test_data['gender']\n",
        "gnb_model = GaussianNB()\n",
        "gnb_model.fit(X_train,Y_train)\n",
        "GaussianNB()"
      ],
      "metadata": {
        "colab": {
          "base_uri": "https://localhost:8080/"
        },
        "id": "w22sGIqtnpHd",
        "outputId": "59d7b3af-247a-4d7f-bff3-e3363b6b2db3"
      },
      "execution_count": 63,
      "outputs": [
        {
          "output_type": "execute_result",
          "data": {
            "text/plain": [
              "GaussianNB()"
            ]
          },
          "metadata": {},
          "execution_count": 63
        }
      ]
    },
    {
      "cell_type": "code",
      "source": [
        "prediction = gnb_model.predict(x_test)\n",
        "model_acc = accuracy_score(y_test, prediction)*100\n",
        "model_precision = precision_score(y_test, prediction, average=None).mean() *100\n",
        "model_recall = recall_score(y_test, prediction, average=None).mean() *100\n",
        "print(\"Gaussian Naive Bayes accuracy = \", model_acc, \"%\")\n",
        "print(\"Gaussian Naive Bayes precision = \", model_precision, \"%\")\n",
        "print(\"Gaussian Naive Bayes recall = \", model_recall, \"%\")"
      ],
      "metadata": {
        "colab": {
          "base_uri": "https://localhost:8080/"
        },
        "id": "OVmMWmWJoB0N",
        "outputId": "24bed7e0-4a56-4d7d-e4c8-51f26134aa94"
      },
      "execution_count": 66,
      "outputs": [
        {
          "output_type": "stream",
          "name": "stdout",
          "text": [
            "Gaussian Naive Bayes accuracy =  62.5 %\n",
            "Gaussian Naive Bayes precision =  41.66666666666667 %\n",
            "Gaussian Naive Bayes recall =  53.333333333333336 %\n"
          ]
        },
        {
          "output_type": "stream",
          "name": "stderr",
          "text": [
            "/usr/local/lib/python3.8/dist-packages/sklearn/metrics/_classification.py:1318: UndefinedMetricWarning: Precision is ill-defined and being set to 0.0 in labels with no predicted samples. Use `zero_division` parameter to control this behavior.\n",
            "  _warn_prf(average, modifier, msg_start, len(result))\n"
          ]
        }
      ]
    },
    {
      "cell_type": "code",
      "source": [],
      "metadata": {
        "id": "FmFvci0Ckj7L"
      },
      "execution_count": null,
      "outputs": []
    }
  ]
}